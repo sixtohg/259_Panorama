{
 "cells": [
  {
   "cell_type": "markdown",
   "metadata": {
    "toc": true
   },
   "source": [
    "<h1>Table of Contents<span class=\"tocSkip\"></span></h1>\n",
    "<div class=\"toc\"><ul class=\"toc-item\"><li><span><a href=\"#If-else\" data-toc-modified-id=\"If-else-1\"><span class=\"toc-item-num\">1&nbsp;&nbsp;</span>If-else</a></span></li><li><span><a href=\"#for\" data-toc-modified-id=\"for-2\"><span class=\"toc-item-num\">2&nbsp;&nbsp;</span>for</a></span></li><li><span><a href=\"#while,-repeat,-break\" data-toc-modified-id=\"while,-repeat,-break-3\"><span class=\"toc-item-num\">3&nbsp;&nbsp;</span>while, repeat, break</a></span><ul class=\"toc-item\"><li><span><a href=\"#while\" data-toc-modified-id=\"while-3.1\"><span class=\"toc-item-num\">3.1&nbsp;&nbsp;</span>while</a></span></li><li><span><a href=\"#repeat,-break\" data-toc-modified-id=\"repeat,-break-3.2\"><span class=\"toc-item-num\">3.2&nbsp;&nbsp;</span>repeat, break</a></span></li></ul></li><li><span><a href=\"#try,-tryCatch\" data-toc-modified-id=\"try,-tryCatch-4\"><span class=\"toc-item-num\">4&nbsp;&nbsp;</span>try, tryCatch</a></span></li><li><span><a href=\"#Práctica:\" data-toc-modified-id=\"Práctica:-5\"><span class=\"toc-item-num\">5&nbsp;&nbsp;</span>Práctica:</a></span></li></ul></div>"
   ]
  },
  {
   "cell_type": "markdown",
   "metadata": {},
   "source": [
    "# Estructuras de Control"
   ]
  },
  {
   "cell_type": "markdown",
   "metadata": {},
   "source": [
    "Las estructuras de control son el esqueleto del lenguage de la programación. Entre las estructuras de control encontramos los bucles, las sentencias condicionales. En este clase vamos a ver las estructuras de control básicas de la programación en R. \n",
    "\n",
    "PARTE 1:\n",
    "- if-else\n",
    "- for\n",
    "- while\n",
    "- repeat/break\n",
    "\n",
    "PARTE 2:\n",
    "- apply/sapply/lapply/tapply\n",
    "- programación paralelizada"
   ]
  },
  {
   "cell_type": "markdown",
   "metadata": {},
   "source": [
    "## If-else\n"
   ]
  },
  {
   "cell_type": "markdown",
   "metadata": {},
   "source": [
    "En esta sección vamos a ver como implementar una condición en R. Las condiciones se expresan de la siguiente manera:\n",
    "\n",
    "- a == b   (es TRUE si a y b son IGUALES) \n",
    "- a != b   (es TRUE si a y b son DISTINTO)\n",
    "- a >= b   (es TRUE si a es MAYOR o IGUAL a b)\n",
    "- a <= b   (es TRUE si a es MENOR o IGUAL a b)\n",
    "- a < b || a == c (es TRUE si a es MENOR que b o si a es IGUAL a c)\n",
    "- a <= b && a == c (es TRUE si a es MENOR que b y si a es IGUAL a c)\n",
    "\n",
    "Si se ejecuta la condición se obtiene un objeto de tipo booleano (TRUE o FALSE), que indica si se cumple o no dicha condición. Los elementos a y b pueden ser en principio cualquier objeto: lista, número, caracter ... "
   ]
  },
  {
   "cell_type": "code",
   "execution_count": 2,
   "metadata": {},
   "outputs": [
    {
     "data": {
      "text/html": [
       "TRUE"
      ],
      "text/latex": [
       "TRUE"
      ],
      "text/markdown": [
       "TRUE"
      ],
      "text/plain": [
       "[1] TRUE"
      ]
     },
     "metadata": {},
     "output_type": "display_data"
    },
    {
     "data": {
      "text/html": [
       "FALSE"
      ],
      "text/latex": [
       "FALSE"
      ],
      "text/markdown": [
       "FALSE"
      ],
      "text/plain": [
       "[1] FALSE"
      ]
     },
     "metadata": {},
     "output_type": "display_data"
    },
    {
     "data": {
      "text/html": [
       "TRUE"
      ],
      "text/latex": [
       "TRUE"
      ],
      "text/markdown": [
       "TRUE"
      ],
      "text/plain": [
       "[1] TRUE"
      ]
     },
     "metadata": {},
     "output_type": "display_data"
    },
    {
     "data": {
      "text/html": [
       "FALSE"
      ],
      "text/latex": [
       "FALSE"
      ],
      "text/markdown": [
       "FALSE"
      ],
      "text/plain": [
       "[1] FALSE"
      ]
     },
     "metadata": {},
     "output_type": "display_data"
    },
    {
     "data": {
      "text/html": [
       "TRUE"
      ],
      "text/latex": [
       "TRUE"
      ],
      "text/markdown": [
       "TRUE"
      ],
      "text/plain": [
       "[1] TRUE"
      ]
     },
     "metadata": {},
     "output_type": "display_data"
    },
    {
     "data": {
      "text/html": [
       "FALSE"
      ],
      "text/latex": [
       "FALSE"
      ],
      "text/markdown": [
       "FALSE"
      ],
      "text/plain": [
       "[1] FALSE"
      ]
     },
     "metadata": {},
     "output_type": "display_data"
    },
    {
     "data": {
      "text/html": [
       "TRUE"
      ],
      "text/latex": [
       "TRUE"
      ],
      "text/markdown": [
       "TRUE"
      ],
      "text/plain": [
       "[1] TRUE"
      ]
     },
     "metadata": {},
     "output_type": "display_data"
    }
   ],
   "source": [
    "a <- 2\n",
    "b <- 5\n",
    "c <- 2\n",
    "\n",
    "a == 2\n",
    "a == b\n",
    "a == c\n",
    "a != 2\n",
    "b >= c\n",
    "\n",
    "a == c && a == b\n",
    "a == c || a == b"
   ]
  },
  {
   "cell_type": "markdown",
   "metadata": {},
   "source": [
    "La condición también puede estar asignada a un objeto, como por ejemplo:"
   ]
  },
  {
   "cell_type": "code",
   "execution_count": 3,
   "metadata": {},
   "outputs": [
    {
     "name": "stdout",
     "output_type": "stream",
     "text": [
      "[1] \"Se cumple la condicion\"\n"
     ]
    },
    {
     "data": {
      "text/html": [
       "'Esto se debe a que el objeto cond1 es de la clase: logical'"
      ],
      "text/latex": [
       "'Esto se debe a que el objeto cond1 es de la clase: logical'"
      ],
      "text/markdown": [
       "'Esto se debe a que el objeto cond1 es de la clase: logical'"
      ],
      "text/plain": [
       "[1] \"Esto se debe a que el objeto cond1 es de la clase: logical\""
      ]
     },
     "metadata": {},
     "output_type": "display_data"
    },
    {
     "name": "stdout",
     "output_type": "stream",
     "text": [
      "[1] \"Se cumple la condicion\"\n"
     ]
    }
   ],
   "source": [
    "cond1 <- a == 2\n",
    "\n",
    "# Aqui está asignada la condicion a cond1\n",
    "if (cond1) {\n",
    "    print(\"Se cumple la condicion\")\n",
    "} else {\n",
    "    print(\"No se cumple la condicion\")\n",
    "}\n",
    "paste(\"Esto se debe a que el objeto cond1 es de la clase:\",class(cond1))\n",
    "\n",
    "# ... que equivale a esto\n",
    "if (a == 2) {\n",
    "    print(\"Se cumple la condicion\")\n",
    "} else {\n",
    "    print(\"No se cumple la condicion\")\n",
    "}"
   ]
  },
  {
   "cell_type": "markdown",
   "metadata": {},
   "source": [
    "Si ponemos el símbolo ! antes de la condición indica DISTINTO a la condición:"
   ]
  },
  {
   "cell_type": "code",
   "execution_count": 4,
   "metadata": {},
   "outputs": [
    {
     "data": {
      "text/html": [
       "'Por tanto si cond1 es TRUE entonces !cond1 es FALSE'"
      ],
      "text/latex": [
       "'Por tanto si cond1 es TRUE entonces !cond1 es FALSE'"
      ],
      "text/markdown": [
       "'Por tanto si cond1 es TRUE entonces !cond1 es FALSE'"
      ],
      "text/plain": [
       "[1] \"Por tanto si cond1 es TRUE entonces !cond1 es FALSE\""
      ]
     },
     "metadata": {},
     "output_type": "display_data"
    },
    {
     "name": "stdout",
     "output_type": "stream",
     "text": [
      "[1] \"No se cumple la condicion\"\n"
     ]
    }
   ],
   "source": [
    "paste(\"Por tanto si cond1 es\",cond1,\"entonces !cond1 es\",!cond1)\n",
    "\n",
    "if (!cond1) {\n",
    "    print(\"Se cumple la condicion\")\n",
    "} else {\n",
    "    print(\"No se cumple la condicion\")\n",
    "}"
   ]
  },
  {
   "cell_type": "markdown",
   "metadata": {},
   "source": [
    "Hay funciones importantes de R que nos permiten obtener información sobre sobre los objetos, de tal manera que dichas funciones nos \"contestan\" con True o False .\n",
    "Por ejemplo, a la pregunta: ¿Hay algún NaN en esta matriz? se encarga de responderla la función any.na(), cuya salida de la función es una variable booleana."
   ]
  },
  {
   "cell_type": "code",
   "execution_count": 60,
   "metadata": {},
   "outputs": [
    {
     "data": {
      "text/html": [
       "'En este dataset hay NaNs'"
      ],
      "text/latex": [
       "'En este dataset hay NaNs'"
      ],
      "text/markdown": [
       "'En este dataset hay NaNs'"
      ],
      "text/plain": [
       "[1] \"En este dataset hay NaNs\""
      ]
     },
     "metadata": {},
     "output_type": "display_data"
    }
   ],
   "source": [
    "vec <- c(1,5,NA,7)\n",
    "cond <- anyNA(vec)\n",
    "if (cond) {\n",
    "    paste(\"En este dataset hay NaNs\")\n",
    "} else {\n",
    "    print(\"En este dataset no hay NaNs\")\n",
    "}"
   ]
  },
  {
   "cell_type": "markdown",
   "metadata": {},
   "source": [
    "Otro ejemplo, a la pregunta: ¿Es esto un NaN en esta matriz? se encarga de responderla la función is.na(), cuya salida de la función es una variable booleana."
   ]
  },
  {
   "cell_type": "code",
   "execution_count": 51,
   "metadata": {},
   "outputs": [
    {
     "data": {
      "text/html": [
       "<ol class=list-inline>\n",
       "\t<li>FALSE</li>\n",
       "\t<li>FALSE</li>\n",
       "\t<li>TRUE</li>\n",
       "\t<li>FALSE</li>\n",
       "</ol>\n"
      ],
      "text/latex": [
       "\\begin{enumerate*}\n",
       "\\item FALSE\n",
       "\\item FALSE\n",
       "\\item TRUE\n",
       "\\item FALSE\n",
       "\\end{enumerate*}\n"
      ],
      "text/markdown": [
       "1. FALSE\n",
       "2. FALSE\n",
       "3. TRUE\n",
       "4. FALSE\n",
       "\n",
       "\n"
      ],
      "text/plain": [
       "[1] FALSE FALSE  TRUE FALSE"
      ]
     },
     "metadata": {},
     "output_type": "display_data"
    }
   ],
   "source": [
    "vec <- c(1,5,NA,7)\n",
    "is.na(vec)"
   ]
  },
  {
   "cell_type": "markdown",
   "metadata": {},
   "source": [
    "En este caso anterior, si introdujesemos lo siguiente, salta un warning ya que vec no tiene longitud 1."
   ]
  },
  {
   "cell_type": "code",
   "execution_count": 57,
   "metadata": {},
   "outputs": [
    {
     "name": "stderr",
     "output_type": "stream",
     "text": [
      "Warning message in if (cond) {:\n",
      "“the condition has length > 1 and only the first element will be used”"
     ]
    },
    {
     "name": "stdout",
     "output_type": "stream",
     "text": [
      "[1] \"En este dataset no hay NaNs\"\n"
     ]
    },
    {
     "data": {
      "text/html": [],
      "text/latex": [],
      "text/markdown": [],
      "text/plain": [
       "integer(0)"
      ]
     },
     "metadata": {},
     "output_type": "display_data"
    }
   ],
   "source": [
    "vec <- c(1,5,NA,7)\n",
    "cond <- is.na(vec)\n",
    "if (cond) {\n",
    "    num_NA <- which(vec == NA)\n",
    "    paste(\"En este dataset hay NaNs, concretamente hay\",num_NA)\n",
    "} else {\n",
    "    print(\"En este dataset no hay NaNs\")\n",
    "}\n",
    "\n",
    "which(vec == NA)"
   ]
  },
  {
   "cell_type": "markdown",
   "metadata": {},
   "source": [
    "En resumidas cuentas, en la estructura if (condicion), lo importante es que la condicion sea un objeto de tipo booleano y a ser posible cuya longitud sea 1!"
   ]
  },
  {
   "cell_type": "markdown",
   "metadata": {},
   "source": [
    "Hay dos grandes diferencias con respecto a python: 1) la condición va entre paréntesis mientras que en python no y 2) el cuerpo de la condición va entre llaves sin importar el sangrado de línea mientras que en python es al revés (prima el sangrado de línea y no hay que poner llaves)."
   ]
  },
  {
   "cell_type": "code",
   "execution_count": 11,
   "metadata": {},
   "outputs": [],
   "source": [
    "## En R\n",
    "#if (condicion) {\n",
    "#    # haz algo aqui\n",
    "#} else {\n",
    "#    # sino haz algo aqui\n",
    "#}\n",
    "#\n",
    "## En python\n",
    "#if condicion:\n",
    "#    #haz algo aqui\n",
    "#else:\n",
    "#    #sino haz algo aqui"
   ]
  },
  {
   "cell_type": "markdown",
   "metadata": {},
   "source": [
    "A continuación se pueden ver un ejemplo completo de la aplicacion del if else:"
   ]
  },
  {
   "cell_type": "code",
   "execution_count": 7,
   "metadata": {},
   "outputs": [
    {
     "name": "stdout",
     "output_type": "stream",
     "text": [
      "Le toca el turno a:Paco\n",
      "Me puede decir su apellido por favor:Castillo\n"
     ]
    },
    {
     "data": {
      "text/html": [
       "'Muy bien Paco Castillo pase a la sala'"
      ],
      "text/latex": [
       "'Muy bien Paco Castillo pase a la sala'"
      ],
      "text/markdown": [
       "'Muy bien Paco Castillo pase a la sala'"
      ],
      "text/plain": [
       "[1] \"Muy bien Paco Castillo pase a la sala\""
      ]
     },
     "metadata": {},
     "output_type": "display_data"
    }
   ],
   "source": [
    "my_list = list(\"nombre\" = c(\"Paco\",\"Álvaro\",\"Juan\"), \n",
    "               \"apellido\" = c(\"López\",\"Castillo\",\"Robles\")\n",
    "              ) \n",
    "\n",
    "nom <- readline(prompt=\"Le toca el turno a:\")\n",
    "\n",
    "if (any(my_list$nombre == nom)) {\n",
    "       apell <- readline(prompt=\"Me puede decir su apellido por favor:\")\n",
    "    if (any(my_list$apellido == apell)) {\n",
    "        paste(\"Muy bien\",nom,apell,\"pase a la sala\")\n",
    "    }\n",
    "    else {\n",
    "        paste(\"Lo siento yo estoy buscando a otro\",nom)\n",
    "    }\n",
    "}else {\n",
    "    paste(\"No hay nadie con ese nombre en la sala\")\n",
    "}       "
   ]
  },
  {
   "cell_type": "markdown",
   "metadata": {},
   "source": [
    "En realidad, el ejercicio anterior tiene un pequeño fallo ya que no es capaz de asociar los apellidos con los nombres. Es decir, cuando introduces el apellido el código tan solo busca si ese apellido está en my_list, independientemente de si efectivamente el apellido en cuestión está asociado a algún nombre en particular (Si introduces de nombre \"Paco\" y de apellido \"Castillo\" el algoritmo va a llamar a Paco Castillo cuando no hay ningún Paco Castillo). \n",
    "\n",
    "EJERCICIO PROPUESTO: asocia los nombres a los apellidos en la siguiente celda (ayuda: utiliza la función which):"
   ]
  },
  {
   "cell_type": "code",
   "execution_count": 2,
   "metadata": {},
   "outputs": [
    {
     "name": "stdout",
     "output_type": "stream",
     "text": [
      "Le toca el turno a:Paco\n",
      "Me puede decir su apellido por favor:López\n"
     ]
    },
    {
     "data": {
      "text/html": [
       "'Muy bien Paco López pase a la sala'"
      ],
      "text/latex": [
       "'Muy bien Paco López pase a la sala'"
      ],
      "text/markdown": [
       "'Muy bien Paco López pase a la sala'"
      ],
      "text/plain": [
       "[1] \"Muy bien Paco López pase a la sala\""
      ]
     },
     "metadata": {},
     "output_type": "display_data"
    }
   ],
   "source": [
    "my_list = list(\"nombre\" = c(\"Paco\",\"Álvaro\",\"Juan\"), \n",
    "               \"apellido\" = c(\"López\",\"Castillo\",\"Robles\")\n",
    "              ) \n",
    "\n",
    "nom <- readline(prompt=\"Le toca el turno a:\")\n",
    "\n",
    "if (any(my_list$nombre == nom)) {\n",
    "       apell <- readline(prompt=\"Me puede decir su apellido por favor:\")\n",
    "        index_nom <- which(my_list$nombre == nom)\n",
    "    if (my_list$apellido[index_nom] == apell) {\n",
    "        paste(\"Muy bien\",nom,apell,\"pase a la sala\")\n",
    "    }\n",
    "    else {\n",
    "        paste(\"Lo siento yo estoy buscando a otro\",nom)\n",
    "    }\n",
    "}else {\n",
    "    paste(\"No hay nadie con ese nombre en la sala\")\n",
    "}       "
   ]
  },
  {
   "cell_type": "markdown",
   "metadata": {},
   "source": [
    "EJERCICIO PROPUESTO: En la siguiente celda tienes un vector de datos. Tienes que hacer lo siguiente:\n",
    "- Identifica los valores menores que 1 y asignales el valor 0.\n",
    "- Identifica los valores mayores que 0 y multiplicalos por 2."
   ]
  },
  {
   "cell_type": "code",
   "execution_count": 5,
   "metadata": {},
   "outputs": [
    {
     "data": {
      "text/html": [
       "<ol class=list-inline>\n",
       "\t<li>-63</li>\n",
       "\t<li>40</li>\n",
       "\t<li>14</li>\n",
       "\t<li>-67</li>\n",
       "\t<li>85</li>\n",
       "\t<li>84</li>\n",
       "</ol>\n"
      ],
      "text/latex": [
       "\\begin{enumerate*}\n",
       "\\item -63\n",
       "\\item 40\n",
       "\\item 14\n",
       "\\item -67\n",
       "\\item 85\n",
       "\\item 84\n",
       "\\end{enumerate*}\n"
      ],
      "text/markdown": [
       "1. -63\n",
       "2. 40\n",
       "3. 14\n",
       "4. -67\n",
       "5. 85\n",
       "6. 84\n",
       "\n",
       "\n"
      ],
      "text/plain": [
       "[1] -63  40  14 -67  85  84"
      ]
     },
     "metadata": {},
     "output_type": "display_data"
    },
    {
     "data": {
      "text/html": [
       "<ol class=list-inline>\n",
       "\t<li>0</li>\n",
       "\t<li>80</li>\n",
       "\t<li>28</li>\n",
       "\t<li>0</li>\n",
       "\t<li>170</li>\n",
       "\t<li>168</li>\n",
       "</ol>\n"
      ],
      "text/latex": [
       "\\begin{enumerate*}\n",
       "\\item 0\n",
       "\\item 80\n",
       "\\item 28\n",
       "\\item 0\n",
       "\\item 170\n",
       "\\item 168\n",
       "\\end{enumerate*}\n"
      ],
      "text/markdown": [
       "1. 0\n",
       "2. 80\n",
       "3. 28\n",
       "4. 0\n",
       "5. 170\n",
       "6. 168\n",
       "\n",
       "\n"
      ],
      "text/plain": [
       "[1]   0  80  28   0 170 168"
      ]
     },
     "metadata": {},
     "output_type": "display_data"
    }
   ],
   "source": [
    "set.seed(2)\n",
    "vec <- sample(-100:100,size = 100)\n",
    "head(vec)\n",
    "if (any(vec < 1)){\n",
    "    vec[which(vec < 1)] <- 0\n",
    "}\n",
    "\n",
    "if (any(vec > 1)){\n",
    "    vec[which(vec > 0)] <- vec[which(vec > 0)] * 2\n",
    "}\n",
    "head(vec)"
   ]
  },
  {
   "cell_type": "markdown",
   "metadata": {},
   "source": [
    "## for"
   ]
  },
  {
   "cell_type": "markdown",
   "metadata": {},
   "source": [
    "El bucle for permite realizar iteraciones. Una iteración es un ciclo de operaciones que se repiten a través de uno o varios índices Al igual que la condición if, las diferencias con python residen en la presencia de llaves en sustitución de los sangrados de línea. De tal manera que la sintaxis es:\n",
    "- for (i in vec){cuerpo del bucle}\n",
    "\n",
    "Si el cuerpo del bucle solo continene una línea se puede poner a continuación y sin llaves:\n",
    "- for (i in vec) cuerpo del bucle"
   ]
  },
  {
   "cell_type": "markdown",
   "metadata": {},
   "source": [
    "Podemos iterar sobre elementos de un vector..."
   ]
  },
  {
   "cell_type": "code",
   "execution_count": 89,
   "metadata": {},
   "outputs": [
    {
     "name": "stdout",
     "output_type": "stream",
     "text": [
      "[1] \"carro\"\n",
      "[1] \"camion\"\n",
      "[1] \"metro\"\n",
      "[1] \"moto\"\n"
     ]
    }
   ],
   "source": [
    "medios.transporte <- c(\"carro\", \"camion\",\"metro\", \"moto\")\n",
    "for (vehiculo in medios.transporte) print(vehiculo)"
   ]
  },
  {
   "cell_type": "markdown",
   "metadata": {},
   "source": [
    "... o iterar sobre elementos de una lista."
   ]
  },
  {
   "cell_type": "code",
   "execution_count": 90,
   "metadata": {},
   "outputs": [
    {
     "name": "stdout",
     "output_type": "stream",
     "text": [
      "[1] \"carro\"\n",
      "[1] \"camion\"\n",
      "[1] \"metro\"\n",
      "[1] \"moto\"\n"
     ]
    }
   ],
   "source": [
    "medios.transporte <- list(\"carro\", \"camion\",\"metro\", \"moto\")\n",
    "for (vehiculo in medios.transporte) print(vehiculo)"
   ]
  },
  {
   "cell_type": "markdown",
   "metadata": {},
   "source": [
    "Si en cada interación vamos a ir rellenando elementos en un vector/matriz/lista es importante inicializarlas antes:"
   ]
  },
  {
   "cell_type": "code",
   "execution_count": 99,
   "metadata": {},
   "outputs": [
    {
     "data": {
      "text/html": [
       "<ol class=list-inline>\n",
       "\t<li>1</li>\n",
       "\t<li>8</li>\n",
       "\t<li>27</li>\n",
       "\t<li>64</li>\n",
       "\t<li>125</li>\n",
       "\t<li>216</li>\n",
       "</ol>\n"
      ],
      "text/latex": [
       "\\begin{enumerate*}\n",
       "\\item 1\n",
       "\\item 8\n",
       "\\item 27\n",
       "\\item 64\n",
       "\\item 125\n",
       "\\item 216\n",
       "\\end{enumerate*}\n"
      ],
      "text/markdown": [
       "1. 1\n",
       "2. 8\n",
       "3. 27\n",
       "4. 64\n",
       "5. 125\n",
       "6. 216\n",
       "\n",
       "\n"
      ],
      "text/plain": [
       "[1]   1   8  27  64 125 216"
      ]
     },
     "metadata": {},
     "output_type": "display_data"
    }
   ],
   "source": [
    "x <- 1:500\n",
    "y <- x^2\n",
    "z <- c()\n",
    "for (i in 1:500) z[i] <- x[i]*y[i]\n",
    "head(z)"
   ]
  },
  {
   "cell_type": "markdown",
   "metadata": {},
   "source": [
    "... si no se hubiese inicializado el vector z pasaría esto:"
   ]
  },
  {
   "cell_type": "code",
   "execution_count": 102,
   "metadata": {},
   "outputs": [
    {
     "ename": "ERROR",
     "evalue": "Error in eval(expr, envir, enclos): object 'zz' not found\n",
     "output_type": "error",
     "traceback": [
      "Error in eval(expr, envir, enclos): object 'zz' not found\nTraceback:\n"
     ]
    }
   ],
   "source": [
    "x <- 1:500\n",
    "y <- x^2\n",
    "for (i in 1:500) zz[i] <- x[i]*y[i]\n",
    "head(z)"
   ]
  },
  {
   "cell_type": "markdown",
   "metadata": {},
   "source": [
    "Por ello una parte importante de los bucles for es la inicialización de los objetos.\n",
    "- Inicializar un vector: c()\n",
    "- Inicializar una matriz: matrix(data=, ncol=, nrow=)\n",
    "- Inicializar un array: array(data=,dim=)\n",
    "\n",
    "Si a los vectores o a las listas se les quiere dar una longitud determinada se puede utilizar la función vector():\n",
    "- vector(mode=\"list\",length=)\n",
    "- vector(mode=\"numeric\",length=)"
   ]
  },
  {
   "cell_type": "code",
   "execution_count": 10,
   "metadata": {},
   "outputs": [
    {
     "name": "stdout",
     "output_type": "stream",
     "text": [
      "[1] \"La matriz x contiene:\"\n"
     ]
    },
    {
     "data": {
      "text/html": [
       "<table>\n",
       "<tbody>\n",
       "\t<tr><td>1</td><td>4</td></tr>\n",
       "\t<tr><td>2</td><td>5</td></tr>\n",
       "\t<tr><td>3</td><td>6</td></tr>\n",
       "</tbody>\n",
       "</table>\n"
      ],
      "text/latex": [
       "\\begin{tabular}{ll}\n",
       "\t 1 & 4\\\\\n",
       "\t 2 & 5\\\\\n",
       "\t 3 & 6\\\\\n",
       "\\end{tabular}\n"
      ],
      "text/markdown": [
       "\n",
       "| 1 | 4 | \n",
       "| 2 | 5 | \n",
       "| 3 | 6 | \n",
       "\n",
       "\n"
      ],
      "text/plain": [
       "     [,1] [,2]\n",
       "[1,] 1    4   \n",
       "[2,] 2    5   \n",
       "[3,] 3    6   "
      ]
     },
     "metadata": {},
     "output_type": "display_data"
    },
    {
     "name": "stdout",
     "output_type": "stream",
     "text": [
      "[1] \"La matriz y contiene:\"\n"
     ]
    },
    {
     "data": {
      "text/html": [
       "<table>\n",
       "<tbody>\n",
       "\t<tr><td>0</td><td>3</td></tr>\n",
       "\t<tr><td>1</td><td>4</td></tr>\n",
       "\t<tr><td>2</td><td>5</td></tr>\n",
       "</tbody>\n",
       "</table>\n"
      ],
      "text/latex": [
       "\\begin{tabular}{ll}\n",
       "\t 0 & 3\\\\\n",
       "\t 1 & 4\\\\\n",
       "\t 2 & 5\\\\\n",
       "\\end{tabular}\n"
      ],
      "text/markdown": [
       "\n",
       "| 0 | 3 | \n",
       "| 1 | 4 | \n",
       "| 2 | 5 | \n",
       "\n",
       "\n"
      ],
      "text/plain": [
       "     [,1] [,2]\n",
       "[1,] 0    3   \n",
       "[2,] 1    4   \n",
       "[3,] 2    5   "
      ]
     },
     "metadata": {},
     "output_type": "display_data"
    },
    {
     "name": "stdout",
     "output_type": "stream",
     "text": [
      "[1] \"La matriz z contiene:\"\n"
     ]
    },
    {
     "data": {
      "text/html": [
       "<table>\n",
       "<tbody>\n",
       "\t<tr><td>0 </td><td>12</td></tr>\n",
       "\t<tr><td>2 </td><td>20</td></tr>\n",
       "\t<tr><td>6 </td><td>30</td></tr>\n",
       "</tbody>\n",
       "</table>\n"
      ],
      "text/latex": [
       "\\begin{tabular}{ll}\n",
       "\t 0  & 12\\\\\n",
       "\t 2  & 20\\\\\n",
       "\t 6  & 30\\\\\n",
       "\\end{tabular}\n"
      ],
      "text/markdown": [
       "\n",
       "| 0  | 12 | \n",
       "| 2  | 20 | \n",
       "| 6  | 30 | \n",
       "\n",
       "\n"
      ],
      "text/plain": [
       "     [,1] [,2]\n",
       "[1,] 0    12  \n",
       "[2,] 2    20  \n",
       "[3,] 6    30  "
      ]
     },
     "metadata": {},
     "output_type": "display_data"
    }
   ],
   "source": [
    "x <- matrix(data = 1:6, ncol = 2, nrow = 3)\n",
    "y <- x-1\n",
    "z <- matrix(data = NA, ncol = 2, nrow = 3)\n",
    "for (i in 1:nrow(x)) {\n",
    "  z[i,] <- x[i,]*y[i,]  \n",
    "} \n",
    "\n",
    "print(\"La matriz x contiene:\") \n",
    "x\n",
    "print(\"La matriz y contiene:\") \n",
    "y\n",
    "print(\"La matriz z contiene:\") \n",
    "z"
   ]
  },
  {
   "cell_type": "markdown",
   "metadata": {},
   "source": [
    "EJERCICIO PROPUESTO: Busca la manera de hacer en tan solo UN bucle for lo que en la siguiente celda está hecho en DOS."
   ]
  },
  {
   "cell_type": "code",
   "execution_count": 6,
   "metadata": {},
   "outputs": [
    {
     "name": "stdout",
     "output_type": "stream",
     "text": [
      "[1] \"La matriz x contiene:\"\n"
     ]
    },
    {
     "data": {
      "text/html": [
       "<table>\n",
       "<tbody>\n",
       "\t<tr><td>1</td><td>4</td></tr>\n",
       "\t<tr><td>2</td><td>5</td></tr>\n",
       "\t<tr><td>3</td><td>6</td></tr>\n",
       "</tbody>\n",
       "</table>\n"
      ],
      "text/latex": [
       "\\begin{tabular}{ll}\n",
       "\t 1 & 4\\\\\n",
       "\t 2 & 5\\\\\n",
       "\t 3 & 6\\\\\n",
       "\\end{tabular}\n"
      ],
      "text/markdown": [
       "\n",
       "| 1 | 4 | \n",
       "| 2 | 5 | \n",
       "| 3 | 6 | \n",
       "\n",
       "\n"
      ],
      "text/plain": [
       "     [,1] [,2]\n",
       "[1,] 1    4   \n",
       "[2,] 2    5   \n",
       "[3,] 3    6   "
      ]
     },
     "metadata": {},
     "output_type": "display_data"
    },
    {
     "name": "stdout",
     "output_type": "stream",
     "text": [
      "[1] \"La matriz z (que si os fijais es la traspuesta de x) contiene:\"\n"
     ]
    },
    {
     "data": {
      "text/html": [
       "<table>\n",
       "<tbody>\n",
       "\t<tr><td>1</td><td>2</td><td>3</td></tr>\n",
       "\t<tr><td>4</td><td>5</td><td>6</td></tr>\n",
       "</tbody>\n",
       "</table>\n"
      ],
      "text/latex": [
       "\\begin{tabular}{lll}\n",
       "\t 1 & 2 & 3\\\\\n",
       "\t 4 & 5 & 6\\\\\n",
       "\\end{tabular}\n"
      ],
      "text/markdown": [
       "\n",
       "| 1 | 2 | 3 | \n",
       "| 4 | 5 | 6 | \n",
       "\n",
       "\n"
      ],
      "text/plain": [
       "     [,1] [,2] [,3]\n",
       "[1,] 1    2    3   \n",
       "[2,] 4    5    6   "
      ]
     },
     "metadata": {},
     "output_type": "display_data"
    }
   ],
   "source": [
    "# Con dos bucles for\n",
    "x <- matrix(data = 1:6, ncol = 2, nrow = 3)\n",
    "z <- matrix(data = NA, ncol = 3, nrow = 2)\n",
    "for (i in 1:ncol(x)){\n",
    "    for (j in 1:nrow(x)){\n",
    "        z[i,j]= x[j,i]\n",
    "    }\n",
    "}\n",
    "print(\"La matriz x contiene:\") \n",
    "x\n",
    "print(\"La matriz z (que si os fijais es la traspuesta de x) contiene:\") \n",
    "z"
   ]
  },
  {
   "cell_type": "code",
   "execution_count": 6,
   "metadata": {},
   "outputs": [
    {
     "name": "stdout",
     "output_type": "stream",
     "text": [
      "[1] \"La matriz x contiene:\"\n"
     ]
    },
    {
     "data": {
      "text/html": [
       "<table>\n",
       "<tbody>\n",
       "\t<tr><td>1</td><td>4</td></tr>\n",
       "\t<tr><td>2</td><td>5</td></tr>\n",
       "\t<tr><td>3</td><td>6</td></tr>\n",
       "</tbody>\n",
       "</table>\n"
      ],
      "text/latex": [
       "\\begin{tabular}{ll}\n",
       "\t 1 & 4\\\\\n",
       "\t 2 & 5\\\\\n",
       "\t 3 & 6\\\\\n",
       "\\end{tabular}\n"
      ],
      "text/markdown": [
       "\n",
       "| 1 | 4 | \n",
       "| 2 | 5 | \n",
       "| 3 | 6 | \n",
       "\n",
       "\n"
      ],
      "text/plain": [
       "     [,1] [,2]\n",
       "[1,] 1    4   \n",
       "[2,] 2    5   \n",
       "[3,] 3    6   "
      ]
     },
     "metadata": {},
     "output_type": "display_data"
    },
    {
     "name": "stdout",
     "output_type": "stream",
     "text": [
      "[1] \"La matriz z (que si os fijais es la traspuesta de x) contiene:\"\n"
     ]
    },
    {
     "data": {
      "text/html": [
       "<table>\n",
       "<tbody>\n",
       "\t<tr><td>1</td><td>2</td><td>3</td></tr>\n",
       "\t<tr><td>4</td><td>5</td><td>6</td></tr>\n",
       "</tbody>\n",
       "</table>\n"
      ],
      "text/latex": [
       "\\begin{tabular}{lll}\n",
       "\t 1 & 2 & 3\\\\\n",
       "\t 4 & 5 & 6\\\\\n",
       "\\end{tabular}\n"
      ],
      "text/markdown": [
       "\n",
       "| 1 | 2 | 3 | \n",
       "| 4 | 5 | 6 | \n",
       "\n",
       "\n"
      ],
      "text/plain": [
       "     [,1] [,2] [,3]\n",
       "[1,] 1    2    3   \n",
       "[2,] 4    5    6   "
      ]
     },
     "metadata": {},
     "output_type": "display_data"
    }
   ],
   "source": [
    "## Con un bucle for\n",
    "x <- matrix(data = 1:6, ncol = 2, nrow = 3)\n",
    "z <- matrix(data = NA, ncol = 3, nrow = 2)\n",
    "for (i in 1:ncol(x)){\n",
    "        z[i,]= x[,i]\n",
    "}\n",
    "print(\"La matriz x contiene:\") \n",
    "x\n",
    "print(\"La matriz z (que si os fijais es la traspuesta de x) contiene:\") \n",
    "z"
   ]
  },
  {
   "cell_type": "raw",
   "metadata": {},
   "source": [
    "EJERCICIO PROPUESTO: Inicializa un array con valores generados aleatoriamente por una distribucion uniforme entre [-1,1], de dimensiones (100,2,3) y calcula la media a lo largo de la primera dimension, de tal manera que el resultado sea una matriz de dimensiones (2,3). (Para dar valores aleatorios utiliza la función runif(), si no se conoce dicha función buscad la información en la red. Buscar informacion en la red sobre  funciones es una actividad diaria en la vida del programador ya sea principiante o avanzado y por tanto forma parte del aprendizaje en el ámbito de la programación).\n",
    "\n",
    "Sin utilizar la función mean de R, programa un bucle que resuelva el ejercicio."
   ]
  },
  {
   "cell_type": "code",
   "execution_count": 20,
   "metadata": {},
   "outputs": [
    {
     "data": {
      "text/html": [
       "<table>\n",
       "<tbody>\n",
       "\t<tr><td>0.08510315 </td><td>-0.02587627</td><td>-0.05696279</td></tr>\n",
       "\t<tr><td>0.01266458 </td><td> 0.06585339</td><td>-0.12233678</td></tr>\n",
       "</tbody>\n",
       "</table>\n"
      ],
      "text/latex": [
       "\\begin{tabular}{lll}\n",
       "\t 0.08510315  & -0.02587627 & -0.05696279\\\\\n",
       "\t 0.01266458  &  0.06585339 & -0.12233678\\\\\n",
       "\\end{tabular}\n"
      ],
      "text/markdown": [
       "\n",
       "| 0.08510315  | -0.02587627 | -0.05696279 | \n",
       "| 0.01266458  |  0.06585339 | -0.12233678 | \n",
       "\n",
       "\n"
      ],
      "text/plain": [
       "     [,1]       [,2]        [,3]       \n",
       "[1,] 0.08510315 -0.02587627 -0.05696279\n",
       "[2,] 0.01266458  0.06585339 -0.12233678"
      ]
     },
     "metadata": {},
     "output_type": "display_data"
    },
    {
     "data": {
      "text/html": [
       "100"
      ],
      "text/latex": [
       "100"
      ],
      "text/markdown": [
       "100"
      ],
      "text/plain": [
       "[1] 100"
      ]
     },
     "metadata": {},
     "output_type": "display_data"
    },
    {
     "data": {
      "text/html": [
       "3"
      ],
      "text/latex": [
       "3"
      ],
      "text/markdown": [
       "3"
      ],
      "text/plain": [
       "[1] 3"
      ]
     },
     "metadata": {},
     "output_type": "display_data"
    }
   ],
   "source": [
    "data <- array(runif(n = 100*2*3, min = -1,max = 1),dim = c(100,2,3))\n",
    "mean_data <- matrix(nrow = 2,ncol = 3)\n",
    "for (i in 1:nrow(mean_data)){\n",
    "    for (j in 1:ncol(mean_data)){\n",
    "        mean_data[i,j] = sum(data[,i,j])/dim(data)[1]\n",
    "    }\n",
    "}\n",
    "mean_data"
   ]
  },
  {
   "cell_type": "markdown",
   "metadata": {},
   "source": [
    "EJERCICIO PROPUESTO: En la clase de ayer visteis como definir una funcion en R. Utiliza el código del ejercicio anterior (el cual calcula la media a lo largo de la primera dimension para un el array x de 3 dimensiones) para definir una funcion el cual calcule dicha media pero para cualquier array x de 3 dimensiones."
   ]
  },
  {
   "cell_type": "code",
   "execution_count": 30,
   "metadata": {},
   "outputs": [
    {
     "name": "stdout",
     "output_type": "stream",
     "text": [
      "[1] \"matrix 1\"\n"
     ]
    },
    {
     "data": {
      "text/html": [
       "<table>\n",
       "<tbody>\n",
       "\t<tr><td>-0.03214497</td><td>-0.05094310</td><td> 0.02824001</td></tr>\n",
       "\t<tr><td>-0.04329982</td><td>-0.06945674</td><td>-0.05322220</td></tr>\n",
       "</tbody>\n",
       "</table>\n"
      ],
      "text/latex": [
       "\\begin{tabular}{lll}\n",
       "\t -0.03214497 & -0.05094310 &  0.02824001\\\\\n",
       "\t -0.04329982 & -0.06945674 & -0.05322220\\\\\n",
       "\\end{tabular}\n"
      ],
      "text/markdown": [
       "\n",
       "| -0.03214497 | -0.05094310 |  0.02824001 | \n",
       "| -0.04329982 | -0.06945674 | -0.05322220 | \n",
       "\n",
       "\n"
      ],
      "text/plain": [
       "     [,1]        [,2]        [,3]       \n",
       "[1,] -0.03214497 -0.05094310  0.02824001\n",
       "[2,] -0.04329982 -0.06945674 -0.05322220"
      ]
     },
     "metadata": {},
     "output_type": "display_data"
    },
    {
     "name": "stdout",
     "output_type": "stream",
     "text": [
      "[1] \"matrix 2\"\n"
     ]
    },
    {
     "data": {
      "text/html": [
       "<table>\n",
       "<tbody>\n",
       "\t<tr><td> 0.03485583 </td><td> 0.001909791</td></tr>\n",
       "\t<tr><td>-0.02969689 </td><td>-0.010753562</td></tr>\n",
       "\t<tr><td>-0.01376704 </td><td>-0.003183728</td></tr>\n",
       "\t<tr><td> 0.01125218 </td><td> 0.024736897</td></tr>\n",
       "\t<tr><td> 0.01134147 </td><td> 0.009568431</td></tr>\n",
       "</tbody>\n",
       "</table>\n"
      ],
      "text/latex": [
       "\\begin{tabular}{ll}\n",
       "\t  0.03485583  &  0.001909791\\\\\n",
       "\t -0.02969689  & -0.010753562\\\\\n",
       "\t -0.01376704  & -0.003183728\\\\\n",
       "\t  0.01125218  &  0.024736897\\\\\n",
       "\t  0.01134147  &  0.009568431\\\\\n",
       "\\end{tabular}\n"
      ],
      "text/markdown": [
       "\n",
       "|  0.03485583  |  0.001909791 | \n",
       "| -0.02969689  | -0.010753562 | \n",
       "| -0.01376704  | -0.003183728 | \n",
       "|  0.01125218  |  0.024736897 | \n",
       "|  0.01134147  |  0.009568431 | \n",
       "\n",
       "\n"
      ],
      "text/plain": [
       "     [,1]        [,2]        \n",
       "[1,]  0.03485583  0.001909791\n",
       "[2,] -0.02969689 -0.010753562\n",
       "[3,] -0.01376704 -0.003183728\n",
       "[4,]  0.01125218  0.024736897\n",
       "[5,]  0.01134147  0.009568431"
      ]
     },
     "metadata": {},
     "output_type": "display_data"
    }
   ],
   "source": [
    "calculate_mean <- function(x){\n",
    "    mean_data <- matrix(nrow = dim(x)[2],ncol = dim(x)[3])\n",
    "    for (i in 1:nrow(mean_data)){\n",
    "        for (j in 1:ncol(mean_data)){\n",
    "            mean_data[i,j] = sum(x[,i,j])/dim(x)[1]\n",
    "        }\n",
    "    }\n",
    "    return(mean_data)\n",
    "}\n",
    "\n",
    "data1 <- array(runif(n = 100*2*3, min = -1,max = 1),dim = c(100,2,3))\n",
    "print(\"matrix 1\")\n",
    "calculate_mean(data1)\n",
    "data2 <- array(runif(n = 490*5*2, min = -1,max = 1),dim = c(490,5,2))\n",
    "print(\"matrix 2\")\n",
    "calculate_mean(data2)"
   ]
  },
  {
   "cell_type": "markdown",
   "metadata": {},
   "source": [
    "Introduce valores perdidos en la matriz, modifica la función para tener en cuenta la existencia de dichos valores en la estimación del valor medio."
   ]
  },
  {
   "cell_type": "markdown",
   "metadata": {},
   "source": [
    "## while, repeat, break"
   ]
  },
  {
   "cell_type": "markdown",
   "metadata": {},
   "source": [
    "### while"
   ]
  },
  {
   "cell_type": "markdown",
   "metadata": {},
   "source": [
    "A continuación vamos a ver como utilizar la estructura iterativa while, el cual ejecuta el bucle hasta que se cumple una condicion."
   ]
  },
  {
   "cell_type": "code",
   "execution_count": 30,
   "metadata": {},
   "outputs": [
    {
     "name": "stdout",
     "output_type": "stream",
     "text": [
      "[1] \"Aun voy por el numero 0\"\n",
      "[1] \"Aun voy por el numero 1\"\n",
      "[1] \"Aun voy por el numero 2\"\n",
      "[1] \"Aun voy por el numero 3\"\n",
      "[1] \"Aun voy por el numero 4\"\n",
      "[1] \"Aun voy por el numero 5\"\n",
      "[1] \"Aun voy por el numero 6\"\n",
      "[1] \"Aun voy por el numero 7\"\n",
      "[1] \"Aun voy por el numero 8\"\n",
      "[1] \"Aun voy por el numero 9\"\n"
     ]
    }
   ],
   "source": [
    "n <- 0\n",
    "while(n < 10){\n",
    "    print(paste(\"Aun voy por el numero\",n))\n",
    "    n <- n+1\n",
    "}"
   ]
  },
  {
   "cell_type": "markdown",
   "metadata": {},
   "source": [
    "EJERCICIO PROPUESTO: Escriba un algoritmo usando la instrucción while que genere 1000 números al azar con distribución uniforme en [0,1] y los sume hasta llegar a 100. El resultado es el número de sumandos. (Para generar números al azar con dicha distribución utilizar la función runif)"
   ]
  },
  {
   "cell_type": "code",
   "execution_count": 33,
   "metadata": {},
   "outputs": [
    {
     "name": "stdout",
     "output_type": "stream",
     "text": [
      "[1] \"Se han utilizado 208 números, cuya suma es igual a 100.04078414687\"\n"
     ]
    }
   ],
   "source": [
    "data <- runif(1000,min = 0,max = 1)\n",
    "suma <- 0\n",
    "n <- 0\n",
    "while (suma < 100) {\n",
    "    n <- n + 1\n",
    "    suma <- suma + data[n]\n",
    "}\n",
    "print(paste(\"Se han utilizado\",n,\"números, cuya suma es igual a\",suma))"
   ]
  },
  {
   "cell_type": "markdown",
   "metadata": {},
   "source": [
    "### repeat, break"
   ]
  },
  {
   "cell_type": "markdown",
   "metadata": {},
   "source": [
    "Repeat ejecuta el bucle una y otra vez, repitiéndolo hasta que se cumple una condicion donde es necesario que aparezca la secuencia break. De otra manera, el bucle acabaría siendo infinito."
   ]
  },
  {
   "cell_type": "code",
   "execution_count": 31,
   "metadata": {},
   "outputs": [
    {
     "data": {
      "text/html": [
       "1035"
      ],
      "text/latex": [
       "1035"
      ],
      "text/markdown": [
       "1035"
      ],
      "text/plain": [
       "[1] 1035"
      ]
     },
     "metadata": {},
     "output_type": "display_data"
    },
    {
     "data": {
      "text/html": [
       "45"
      ],
      "text/latex": [
       "45"
      ],
      "text/markdown": [
       "45"
      ],
      "text/plain": [
       "[1] 45"
      ]
     },
     "metadata": {},
     "output_type": "display_data"
    }
   ],
   "source": [
    "n <-0\n",
    "suma <- 0\n",
    "repeat {\n",
    "    n <- n+1 \n",
    "    suma <- suma + n\n",
    "    if ( suma > 1000) break\n",
    "}\n",
    "suma\n",
    "n"
   ]
  },
  {
   "cell_type": "markdown",
   "metadata": {},
   "source": [
    "EJERCICIO PROPUESTO: Escriba un algoritmo usando la instrucción repeat que genere 1000 números al azar con distribución uniforme en [0,1] y los sume uno a uno hasta llegar a 100. El resultado es el número de sumandos. (Para generar números al azar con dicha distribución utilizar la función runif)\n"
   ]
  },
  {
   "cell_type": "code",
   "execution_count": 34,
   "metadata": {},
   "outputs": [
    {
     "name": "stdout",
     "output_type": "stream",
     "text": [
      "[1] \"Se han utilizado 196 números, cuya suma es igual a 100.359347080812\"\n"
     ]
    }
   ],
   "source": [
    "data <- runif(1000,min = 0,max = 1)\n",
    "suma <- 0\n",
    "n <- 0\n",
    "repeat {\n",
    "    n <- n + 1\n",
    "    suma <- suma + data[n]\n",
    "    if (suma >= 100) break\n",
    "}\n",
    "print(paste(\"Se han utilizado\",n,\"números, cuya suma es igual a\",suma))"
   ]
  },
  {
   "cell_type": "markdown",
   "metadata": {},
   "source": [
    "## try, tryCatch"
   ]
  },
  {
   "cell_type": "markdown",
   "metadata": {},
   "source": [
    "En muchas ocasiones deseamos ejecutar una expresión y no detener la ejecución si ésta falla, para lo cual en R, al igual que en otros lenguajes de programación, se pueden utilizar las funciones `try` y `tryCatch`."
   ]
  },
  {
   "cell_type": "code",
   "execution_count": 1,
   "metadata": {},
   "outputs": [],
   "source": [
    "? try"
   ]
  },
  {
   "cell_type": "code",
   "execution_count": null,
   "metadata": {},
   "outputs": [],
   "source": [
    "? tryCatch"
   ]
  },
  {
   "cell_type": "markdown",
   "metadata": {},
   "source": [
    "Revisar que devuelven los ejemplos de ambas funciones. Ejercicio: Definir dos variables, una numérica y otra con cadenas de caracteres, aplicar las funciones tryCatch e identificar los errores que aparecen, en case de aparecer."
   ]
  },
  {
   "cell_type": "markdown",
   "metadata": {},
   "source": [
    "## Práctica:"
   ]
  },
  {
   "cell_type": "markdown",
   "metadata": {},
   "source": [
    "Considerar las estructuras de control consideradas para resolver el Sistema de Lorenz con parámetros dando lugar a una trayectoria caótica y para obtener las raíces de un polinomio con el método de la bisección."
   ]
  },
  {
   "cell_type": "code",
   "execution_count": null,
   "metadata": {},
   "outputs": [],
   "source": []
  }
 ],
 "metadata": {
  "kernelspec": {
   "display_name": "R",
   "language": "R",
   "name": "ir"
  },
  "language_info": {
   "codemirror_mode": "r",
   "file_extension": ".r",
   "mimetype": "text/x-r-source",
   "name": "R",
   "pygments_lexer": "r",
   "version": "3.6.3"
  },
  "toc": {
   "base_numbering": 1,
   "nav_menu": {},
   "number_sections": true,
   "sideBar": true,
   "skip_h1_title": true,
   "title_cell": "Table of Contents",
   "title_sidebar": "Contents",
   "toc_cell": true,
   "toc_position": {},
   "toc_section_display": true,
   "toc_window_display": false
  }
 },
 "nbformat": 4,
 "nbformat_minor": 2
}
