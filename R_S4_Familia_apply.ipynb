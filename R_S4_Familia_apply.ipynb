{
 "cells": [
  {
   "cell_type": "markdown",
   "metadata": {},
   "source": [
    "# La familia *Apply*\n",
    "\n"
   ]
  },
  {
   "cell_type": "markdown",
   "metadata": {},
   "source": [
    "Profesor: Rodrigo Manzanas (rodrigo.manzanas@unican.es)\n",
    "\n",
    "## Objetivos de la sesión\n",
    "\n",
    "Al finalizar esta sesión, el estudiante será capaz de:\n",
    "- Comprender la utilidad de la familia *Apply* para evitar bucles explícitos.\n",
    "- Identificar cuándo usar `apply`, `lapply`, `sapply`, `mapply`, `tapply`, `rapply`, `vapply`.\n",
    "- Comparar eficiencia y legibilidad entre bucles y funciones *Apply*.\n",
    "- Reconocer buenas prácticas y errores comunes al usar funciones *Apply*.\n",
    "\n",
    "## Contexto práctico\n",
    "\n",
    "Las estructuras de control permiten automatizar tareas, tomar decisiones y procesar datos de manera eficiente. Por ejemplo, son esenciales para limpiar datos, realizar cálculos repetitivos o aplicar reglas de negocio en análisis de datos. En este sentido, las estructuras de control son el esqueleto del lenguage de la programación. Entre las estructuras de control encontramos los bucles o las sentencias condicionales. De este modo, el objetivo de estas sesiones vamos a ver las estructuras de control básicas de la programación en R. \n",
    "\n",
    "PARTE 1:\n",
    "- if-else\n",
    "- for\n",
    "- while\n",
    "- repeat/break\n",
    "\n",
    "PARTE 2:\n",
    "- apply/sapply/lapply/tapply\n",
    "- programación paralelizada\n",
    "\n",
    "## Tabla resumen de la familia *Apply*\n",
    "\n",
    "| Función   | Estructura sobre la que opera | Output         | Uso típico                      |\n",
    "|-----------|-------------------------------|----------------|---------------------------------|\n",
    "| apply     | matriz/array                  | vector/matriz  | Operar por filas/columnas       |\n",
    "| lapply    | lista/data.frame              | lista          | Iterar sobre listas             |\n",
    "| sapply    | lista/data.frame              | vector/matriz  | Igual que lapply, simplifica    |\n",
    "| mapply    | varias listas/vectores        | lista/vector   | Iterar sobre varios objetos     |\n",
    "| tapply    | vector + factor               | vector/array   | Agrupar y aplicar función       |\n",
    "| rapply    | lista (recursiva)             | lista/vector   | Recorrer listas anidadas        |\n",
    "| vapply    | lista/data.frame              | tipo fijo      | Igual que sapply, tipo seguro   |\n",
    "\n",
    "## Ejemplo comparativo: bucle for vs. apply"
   ]
  },
  {
   "cell_type": "code",
   "execution_count": 1,
   "metadata": {
    "vscode": {
     "languageId": "r"
    }
   },
   "outputs": [
    {
     "data": {
      "text/html": [
       "<style>\n",
       ".list-inline {list-style: none; margin:0; padding: 0}\n",
       ".list-inline>li {display: inline-block}\n",
       ".list-inline>li:not(:last-child)::after {content: \"\\00b7\"; padding: 0 .5ex}\n",
       "</style>\n",
       "<ol class=list-inline><li>269</li><li>153</li><li>174</li><li>250</li><li>242</li></ol>\n"
      ],
      "text/latex": [
       "\\begin{enumerate*}\n",
       "\\item 269\n",
       "\\item 153\n",
       "\\item 174\n",
       "\\item 250\n",
       "\\item 242\n",
       "\\end{enumerate*}\n"
      ],
      "text/markdown": [
       "1. 269\n",
       "2. 153\n",
       "3. 174\n",
       "4. 250\n",
       "5. 242\n",
       "\n",
       "\n"
      ],
      "text/plain": [
       "[1] 269 153 174 250 242"
      ]
     },
     "metadata": {},
     "output_type": "display_data"
    },
    {
     "data": {
      "text/html": [
       "<style>\n",
       ".list-inline {list-style: none; margin:0; padding: 0}\n",
       ".list-inline>li {display: inline-block}\n",
       ".list-inline>li:not(:last-child)::after {content: \"\\00b7\"; padding: 0 .5ex}\n",
       "</style>\n",
       "<ol class=list-inline><li>269</li><li>153</li><li>174</li><li>250</li><li>242</li></ol>\n"
      ],
      "text/latex": [
       "\\begin{enumerate*}\n",
       "\\item 269\n",
       "\\item 153\n",
       "\\item 174\n",
       "\\item 250\n",
       "\\item 242\n",
       "\\end{enumerate*}\n"
      ],
      "text/markdown": [
       "1. 269\n",
       "2. 153\n",
       "3. 174\n",
       "4. 250\n",
       "5. 242\n",
       "\n",
       "\n"
      ],
      "text/plain": [
       "[1] 269 153 174 250 242"
      ]
     },
     "metadata": {},
     "output_type": "display_data"
    }
   ],
   "source": [
    "# Suma de filas de una matriz con bucle for\n",
    "set.seed(1)\n",
    "mat <- matrix(sample(1:100, 20), nrow=5)\n",
    "suma_filas_for <- numeric(nrow(mat))\n",
    "for (i in 1:nrow(mat)) {\n",
    "  suma_filas_for[i] <- sum(mat[i,])\n",
    "}\n",
    "suma_filas_for\n",
    "\n",
    "# Suma de filas con apply\n",
    "suma_filas_apply <- apply(mat, 1, sum)\n",
    "suma_filas_apply"
   ]
  },
  {
   "cell_type": "markdown",
   "metadata": {},
   "source": []
  },
  {
   "cell_type": "markdown",
   "metadata": {},
   "source": [
    "### Introducción"
   ]
  },
  {
   "cell_type": "markdown",
   "metadata": {},
   "source": [
    "`apply()` y sus variantes (`lapply()`, `sapply()`, `mapply()`...) son funciones para manipular matrices, arrays, listas y dataframes de manera repetitiva, permitiendo evitar el uso de ciclos `for` y `while`. \n",
    "\n",
    "Comenzamos con un ejemplo sencillo, supongamos que queremos poner en minúsculas las letras de todos los nombres de un vector. La función de `R` que lo hace es `tolower()`. La forma habitual y primera aproximación para hacerlo es utilizar un ciclo `for`, como sigue:"
   ]
  },
  {
   "cell_type": "code",
   "execution_count": 2,
   "metadata": {
    "scrolled": true,
    "vscode": {
     "languageId": "r"
    }
   },
   "outputs": [
    {
     "data": {
      "text/html": [
       "<style>\n",
       ".list-inline {list-style: none; margin:0; padding: 0}\n",
       ".list-inline>li {display: inline-block}\n",
       ".list-inline>li:not(:last-child)::after {content: \"\\00b7\"; padding: 0 .5ex}\n",
       "</style>\n",
       "<ol class=list-inline><li>'paco'</li><li>'álvaro'</li><li>'maría'</li><li>'alex'</li></ol>\n"
      ],
      "text/latex": [
       "\\begin{enumerate*}\n",
       "\\item 'paco'\n",
       "\\item 'álvaro'\n",
       "\\item 'maría'\n",
       "\\item 'alex'\n",
       "\\end{enumerate*}\n"
      ],
      "text/markdown": [
       "1. 'paco'\n",
       "2. 'álvaro'\n",
       "3. 'maría'\n",
       "4. 'alex'\n",
       "\n",
       "\n"
      ],
      "text/plain": [
       "[1] \"paco\"   \"álvaro\" \"maría\"  \"alex\"  "
      ]
     },
     "metadata": {},
     "output_type": "display_data"
    }
   ],
   "source": [
    "nombres <- c(\"Paco\",\"Álvaro\",\"María\", \"Alex\")\n",
    "for (i in 1:length(nombres)){\n",
    "    nombres[i] <- tolower(nombres[i])\n",
    "}\n",
    "nombres"
   ]
  },
  {
   "cell_type": "markdown",
   "metadata": {},
   "source": [
    "Pero podemos escribirlo de manera más concisa usando la función `lapply()`:"
   ]
  },
  {
   "cell_type": "code",
   "execution_count": 3,
   "metadata": {
    "vscode": {
     "languageId": "r"
    }
   },
   "outputs": [
    {
     "data": {
      "text/html": [
       "<ol>\n",
       "\t<li>'paco'</li>\n",
       "\t<li>'álvaro'</li>\n",
       "\t<li>'maría'</li>\n",
       "\t<li>'alex'</li>\n",
       "</ol>\n"
      ],
      "text/latex": [
       "\\begin{enumerate}\n",
       "\\item 'paco'\n",
       "\\item 'álvaro'\n",
       "\\item 'maría'\n",
       "\\item 'alex'\n",
       "\\end{enumerate}\n"
      ],
      "text/markdown": [
       "1. 'paco'\n",
       "2. 'álvaro'\n",
       "3. 'maría'\n",
       "4. 'alex'\n",
       "\n",
       "\n"
      ],
      "text/plain": [
       "[[1]]\n",
       "[1] \"paco\"\n",
       "\n",
       "[[2]]\n",
       "[1] \"álvaro\"\n",
       "\n",
       "[[3]]\n",
       "[1] \"maría\"\n",
       "\n",
       "[[4]]\n",
       "[1] \"alex\"\n"
      ]
     },
     "metadata": {},
     "output_type": "display_data"
    },
    {
     "data": {
      "text/html": [
       "'list'"
      ],
      "text/latex": [
       "'list'"
      ],
      "text/markdown": [
       "'list'"
      ],
      "text/plain": [
       "[1] \"list\""
      ]
     },
     "metadata": {},
     "output_type": "display_data"
    }
   ],
   "source": [
    "nombres <- c(\"Paco\",\"Álvaro\", \"María\", \"Alex\")\n",
    "nombres <- lapply(nombres, tolower)\n",
    "nombres\n",
    "class(nombres)"
   ]
  },
  {
   "cell_type": "markdown",
   "metadata": {},
   "source": [
    "Nota: Hay que tener en cuenta que muchas funciones de `R` están *vectorizadas*, lo que significa que pueden aplicarse directamente sobre vectores:"
   ]
  },
  {
   "cell_type": "code",
   "execution_count": 4,
   "metadata": {
    "vscode": {
     "languageId": "r"
    }
   },
   "outputs": [
    {
     "data": {
      "text/html": [
       "<style>\n",
       ".list-inline {list-style: none; margin:0; padding: 0}\n",
       ".list-inline>li {display: inline-block}\n",
       ".list-inline>li:not(:last-child)::after {content: \"\\00b7\"; padding: 0 .5ex}\n",
       "</style>\n",
       "<ol class=list-inline><li>'paco'</li><li>'álvaro'</li><li>'maría'</li><li>'alex'</li></ol>\n"
      ],
      "text/latex": [
       "\\begin{enumerate*}\n",
       "\\item 'paco'\n",
       "\\item 'álvaro'\n",
       "\\item 'maría'\n",
       "\\item 'alex'\n",
       "\\end{enumerate*}\n"
      ],
      "text/markdown": [
       "1. 'paco'\n",
       "2. 'álvaro'\n",
       "3. 'maría'\n",
       "4. 'alex'\n",
       "\n",
       "\n"
      ],
      "text/plain": [
       "[1] \"paco\"   \"álvaro\" \"maría\"  \"alex\"  "
      ]
     },
     "metadata": {},
     "output_type": "display_data"
    }
   ],
   "source": [
    "tolower(nombres)"
   ]
  },
  {
   "cell_type": "markdown",
   "metadata": {},
   "source": [
    "Por supuesto, para cualquier función no vectorizada, o para navegar sobre tipos de datos más complejos, la familia *Apply* será muy útil."
   ]
  },
  {
   "cell_type": "markdown",
   "metadata": {},
   "source": [
    "En la siguiente sección veremos en detalle las diferencias entre las diferentes funciones de la familia; esencialmente cada una de ellas está indicada para operar sobre un tipo de estructura distinta. Nos centraremos en `apply()`, pensada para recorrer matrices sobre sus dimensiones; `lapply()`, pensada para recorrer listas y vectores; `sapply()`, que equivale a `lapply()` pero trata de simplificar en un array el resultado, y `mapply()`, que permite iterar sobre varias listas o vectores a la vez."
   ]
  },
  {
   "cell_type": "markdown",
   "metadata": {},
   "source": [
    "## `apply()`"
   ]
  },
  {
   "cell_type": "markdown",
   "metadata": {},
   "source": [
    "Esta función opera sobre arrays multidimensionales, en particular matrices. Sus tres argumentos de entrada principales son:\n",
    "\n",
    "- `X`: Array sobre el que se desea operar.\n",
    "- `MARGIN`: Dimensión sobre la que se desea aplicar la función indicada en `FUN`. Escribiendo `MARGIN = 1` aplicaremos la función a las filas de la matriz y escribiendo `MARGIN = 2` sobre las columnas. Si `X` tiene más de dos dimensiones `MARGIN = 3` opera sobre la tercera dimensión, etc...\n",
    "- `FUN`: Función a aplicar.\n",
    "\n",
    "\n",
    "Vamos a trabajar con la matriz `A`:"
   ]
  },
  {
   "cell_type": "code",
   "execution_count": 5,
   "metadata": {
    "vscode": {
     "languageId": "r"
    }
   },
   "outputs": [
    {
     "data": {
      "text/html": [
       "<table class=\"dataframe\">\n",
       "<caption>A matrix: 6 × 4 of type int</caption>\n",
       "<tbody>\n",
       "\t<tr><td> 9</td><td>11</td><td> 5</td><td> 9</td></tr>\n",
       "\t<tr><td> 4</td><td>14</td><td>15</td><td> 5</td></tr>\n",
       "\t<tr><td> 7</td><td> 2</td><td>10</td><td>14</td></tr>\n",
       "\t<tr><td> 1</td><td>15</td><td> 6</td><td>15</td></tr>\n",
       "\t<tr><td> 2</td><td> 3</td><td>13</td><td>12</td></tr>\n",
       "\t<tr><td>13</td><td> 1</td><td> 7</td><td>13</td></tr>\n",
       "</tbody>\n",
       "</table>\n"
      ],
      "text/latex": [
       "A matrix: 6 × 4 of type int\n",
       "\\begin{tabular}{llll}\n",
       "\t  9 & 11 &  5 &  9\\\\\n",
       "\t  4 & 14 & 15 &  5\\\\\n",
       "\t  7 &  2 & 10 & 14\\\\\n",
       "\t  1 & 15 &  6 & 15\\\\\n",
       "\t  2 &  3 & 13 & 12\\\\\n",
       "\t 13 &  1 &  7 & 13\\\\\n",
       "\\end{tabular}\n"
      ],
      "text/markdown": [
       "\n",
       "A matrix: 6 × 4 of type int\n",
       "\n",
       "|  9 | 11 |  5 |  9 |\n",
       "|  4 | 14 | 15 |  5 |\n",
       "|  7 |  2 | 10 | 14 |\n",
       "|  1 | 15 |  6 | 15 |\n",
       "|  2 |  3 | 13 | 12 |\n",
       "| 13 |  1 |  7 | 13 |\n",
       "\n"
      ],
      "text/plain": [
       "     [,1] [,2] [,3] [,4]\n",
       "[1,]  9   11    5    9  \n",
       "[2,]  4   14   15    5  \n",
       "[3,]  7    2   10   14  \n",
       "[4,]  1   15    6   15  \n",
       "[5,]  2    3   13   12  \n",
       "[6,] 13    1    7   13  "
      ]
     },
     "metadata": {},
     "output_type": "display_data"
    }
   ],
   "source": [
    "set.seed(1) # resultados reproducibles\n",
    "A <- replicate(expr = sample(1:15, size = 6), n = 4) # replicate() evalua la expresión expr n veces\n",
    "A"
   ]
  },
  {
   "cell_type": "markdown",
   "metadata": {},
   "source": [
    "**Ejemplo:** Cálculo del máximo de cada fila de la matriz:"
   ]
  },
  {
   "cell_type": "code",
   "execution_count": 6,
   "metadata": {
    "vscode": {
     "languageId": "r"
    }
   },
   "outputs": [
    {
     "data": {
      "text/html": [
       "<style>\n",
       ".list-inline {list-style: none; margin:0; padding: 0}\n",
       ".list-inline>li {display: inline-block}\n",
       ".list-inline>li:not(:last-child)::after {content: \"\\00b7\"; padding: 0 .5ex}\n",
       "</style>\n",
       "<ol class=list-inline><li>11</li><li>15</li><li>14</li><li>15</li><li>13</li><li>13</li></ol>\n"
      ],
      "text/latex": [
       "\\begin{enumerate*}\n",
       "\\item 11\n",
       "\\item 15\n",
       "\\item 14\n",
       "\\item 15\n",
       "\\item 13\n",
       "\\item 13\n",
       "\\end{enumerate*}\n"
      ],
      "text/markdown": [
       "1. 11\n",
       "2. 15\n",
       "3. 14\n",
       "4. 15\n",
       "5. 13\n",
       "6. 13\n",
       "\n",
       "\n"
      ],
      "text/plain": [
       "[1] 11 15 14 15 13 13"
      ]
     },
     "metadata": {},
     "output_type": "display_data"
    }
   ],
   "source": [
    "apply(X = A, MARGIN = 1, FUN = max)"
   ]
  },
  {
   "cell_type": "markdown",
   "metadata": {},
   "source": [
    "**Ejemplo:** Cálculo del mínimo de cada columna de la matriz:"
   ]
  },
  {
   "cell_type": "code",
   "execution_count": 7,
   "metadata": {
    "vscode": {
     "languageId": "r"
    }
   },
   "outputs": [
    {
     "data": {
      "text/html": [
       "<style>\n",
       ".list-inline {list-style: none; margin:0; padding: 0}\n",
       ".list-inline>li {display: inline-block}\n",
       ".list-inline>li:not(:last-child)::after {content: \"\\00b7\"; padding: 0 .5ex}\n",
       "</style>\n",
       "<ol class=list-inline><li>1</li><li>1</li><li>5</li><li>5</li></ol>\n"
      ],
      "text/latex": [
       "\\begin{enumerate*}\n",
       "\\item 1\n",
       "\\item 1\n",
       "\\item 5\n",
       "\\item 5\n",
       "\\end{enumerate*}\n"
      ],
      "text/markdown": [
       "1. 1\n",
       "2. 1\n",
       "3. 5\n",
       "4. 5\n",
       "\n",
       "\n"
      ],
      "text/plain": [
       "[1] 1 1 5 5"
      ]
     },
     "metadata": {},
     "output_type": "display_data"
    }
   ],
   "source": [
    "apply(X = A, MARGIN = 2, FUN = min)"
   ]
  },
  {
   "cell_type": "markdown",
   "metadata": {},
   "source": [
    "**Ejemplo:** Calcular el mímimo de cada columna de la matriz `A`, a la que hemos introducido `NA`:"
   ]
  },
  {
   "cell_type": "code",
   "execution_count": 8,
   "metadata": {
    "vscode": {
     "languageId": "r"
    }
   },
   "outputs": [
    {
     "name": "stdout",
     "output_type": "stream",
     "text": [
      "     [,1] [,2] [,3] [,4]\n",
      "[1,]    9   NA    5    9\n",
      "[2,]    4   14   15    5\n",
      "[3,]    7   NA   10   14\n",
      "[4,]    1   15   NA   15\n",
      "[5,]    2    3   13   12\n",
      "[6,]   13    1    7   13\n"
     ]
    },
    {
     "data": {
      "text/html": [
       "<style>\n",
       ".list-inline {list-style: none; margin:0; padding: 0}\n",
       ".list-inline>li {display: inline-block}\n",
       ".list-inline>li:not(:last-child)::after {content: \"\\00b7\"; padding: 0 .5ex}\n",
       "</style>\n",
       "<ol class=list-inline><li>1</li><li>&lt;NA&gt;</li><li>&lt;NA&gt;</li><li>5</li></ol>\n"
      ],
      "text/latex": [
       "\\begin{enumerate*}\n",
       "\\item 1\n",
       "\\item <NA>\n",
       "\\item <NA>\n",
       "\\item 5\n",
       "\\end{enumerate*}\n"
      ],
      "text/markdown": [
       "1. 1\n",
       "2. &lt;NA&gt;\n",
       "3. &lt;NA&gt;\n",
       "4. 5\n",
       "\n",
       "\n"
      ],
      "text/plain": [
       "[1]  1 NA NA  5"
      ]
     },
     "metadata": {},
     "output_type": "display_data"
    }
   ],
   "source": [
    "# Introducimos NAs\n",
    "A[1,2] <- NA\n",
    "A[3,2] <- NA\n",
    "A[4,3] <- NA\n",
    "\n",
    "print(A)\n",
    "apply(X = A, MARGIN = 2, FUN = min)"
   ]
  },
  {
   "cell_type": "markdown",
   "metadata": {},
   "source": [
    "Como vemos, al haber `NA` en la matriz, el mínimo de alguna columna es `NA` también. \n",
    "`apply()` permite pasar argumentos adicionales a la función especificada en `FUN`, por lo que, si queremos evitar este comportamiento podríamos pasarle el argumento `na.rm = TRUE` a la función `min()`:"
   ]
  },
  {
   "cell_type": "code",
   "execution_count": 9,
   "metadata": {
    "vscode": {
     "languageId": "r"
    }
   },
   "outputs": [
    {
     "data": {
      "text/html": [
       "<style>\n",
       ".list-inline {list-style: none; margin:0; padding: 0}\n",
       ".list-inline>li {display: inline-block}\n",
       ".list-inline>li:not(:last-child)::after {content: \"\\00b7\"; padding: 0 .5ex}\n",
       "</style>\n",
       "<ol class=list-inline><li>1</li><li>1</li><li>5</li><li>5</li></ol>\n"
      ],
      "text/latex": [
       "\\begin{enumerate*}\n",
       "\\item 1\n",
       "\\item 1\n",
       "\\item 5\n",
       "\\item 5\n",
       "\\end{enumerate*}\n"
      ],
      "text/markdown": [
       "1. 1\n",
       "2. 1\n",
       "3. 5\n",
       "4. 5\n",
       "\n",
       "\n"
      ],
      "text/plain": [
       "[1] 1 1 5 5"
      ]
     },
     "metadata": {},
     "output_type": "display_data"
    }
   ],
   "source": [
    "apply(X = A, MARGIN = 2, FUN = min, na.rm = TRUE)"
   ]
  },
  {
   "cell_type": "markdown",
   "metadata": {},
   "source": [
    "También podemos usar `apply()` sobre arrays de más dimensiones, por ejemplo:"
   ]
  },
  {
   "cell_type": "markdown",
   "metadata": {},
   "source": [
    "**Ejemplo:** Cálculo de la media sobre la tercera dimensión en un array tridimensional"
   ]
  },
  {
   "cell_type": "code",
   "execution_count": 10,
   "metadata": {
    "vscode": {
     "languageId": "r"
    }
   },
   "outputs": [
    {
     "name": "stdout",
     "output_type": "stream",
     "text": [
      "     [,1] [,2] [,3]\n",
      "[1,]    1   14    9\n",
      "[2,]    2    3    2\n",
      "[3,]   11   13   12\n",
      "[4,]    3   11   10\n",
      "[5,]   12    8    8\n"
     ]
    },
    {
     "data": {
      "text/html": [
       "<style>\n",
       ".list-inline {list-style: none; margin:0; padding: 0}\n",
       ".list-inline>li {display: inline-block}\n",
       ".list-inline>li:not(:last-child)::after {content: \"\\00b7\"; padding: 0 .5ex}\n",
       "</style>\n",
       "<ol class=list-inline><li>8.53333333333333</li><li>8.4</li><li>8.4</li><li>7.4</li><li>9.2</li><li>7.2</li><li>7.46666666666667</li><li>7.33333333333333</li><li>7.4</li><li>7.93333333333333</li></ol>\n"
      ],
      "text/latex": [
       "\\begin{enumerate*}\n",
       "\\item 8.53333333333333\n",
       "\\item 8.4\n",
       "\\item 8.4\n",
       "\\item 7.4\n",
       "\\item 9.2\n",
       "\\item 7.2\n",
       "\\item 7.46666666666667\n",
       "\\item 7.33333333333333\n",
       "\\item 7.4\n",
       "\\item 7.93333333333333\n",
       "\\end{enumerate*}\n"
      ],
      "text/markdown": [
       "1. 8.53333333333333\n",
       "2. 8.4\n",
       "3. 8.4\n",
       "4. 7.4\n",
       "5. 9.2\n",
       "6. 7.2\n",
       "7. 7.46666666666667\n",
       "8. 7.33333333333333\n",
       "9. 7.4\n",
       "10. 7.93333333333333\n",
       "\n",
       "\n"
      ],
      "text/plain": [
       " [1] 8.533333 8.400000 8.400000 7.400000 9.200000 7.200000 7.466667 7.333333\n",
       " [9] 7.400000 7.933333"
      ]
     },
     "metadata": {},
     "output_type": "display_data"
    }
   ],
   "source": [
    "A3 <- replicate(replicate(expr = sample(1:15, size = 5), n = 3), n = 10) # A3 es un array de dimensiones 5x3x10\n",
    "print(A3[,,10]) # ejemplo\n",
    "apply(A3, MARGIN = 3, FUN = mean)  # media sobre la tercera dimensión"
   ]
  },
  {
   "cell_type": "markdown",
   "metadata": {},
   "source": [
    "Hay que tener en cuenta que podemos escribir nuestra propia función dentro de la función `apply()`, lo que será muy útil para efectuar operaciones específicas. El ejemplo anterior equivale a:"
   ]
  },
  {
   "cell_type": "code",
   "execution_count": 11,
   "metadata": {
    "vscode": {
     "languageId": "r"
    }
   },
   "outputs": [
    {
     "data": {
      "text/html": [
       "<style>\n",
       ".list-inline {list-style: none; margin:0; padding: 0}\n",
       ".list-inline>li {display: inline-block}\n",
       ".list-inline>li:not(:last-child)::after {content: \"\\00b7\"; padding: 0 .5ex}\n",
       "</style>\n",
       "<ol class=list-inline><li>8.53333333333333</li><li>8.4</li><li>8.4</li><li>7.4</li><li>9.2</li><li>7.2</li><li>7.46666666666667</li><li>7.33333333333333</li><li>7.4</li><li>7.93333333333333</li></ol>\n"
      ],
      "text/latex": [
       "\\begin{enumerate*}\n",
       "\\item 8.53333333333333\n",
       "\\item 8.4\n",
       "\\item 8.4\n",
       "\\item 7.4\n",
       "\\item 9.2\n",
       "\\item 7.2\n",
       "\\item 7.46666666666667\n",
       "\\item 7.33333333333333\n",
       "\\item 7.4\n",
       "\\item 7.93333333333333\n",
       "\\end{enumerate*}\n"
      ],
      "text/markdown": [
       "1. 8.53333333333333\n",
       "2. 8.4\n",
       "3. 8.4\n",
       "4. 7.4\n",
       "5. 9.2\n",
       "6. 7.2\n",
       "7. 7.46666666666667\n",
       "8. 7.33333333333333\n",
       "9. 7.4\n",
       "10. 7.93333333333333\n",
       "\n",
       "\n"
      ],
      "text/plain": [
       " [1] 8.533333 8.400000 8.400000 7.400000 9.200000 7.200000 7.466667 7.333333\n",
       " [9] 7.400000 7.933333"
      ]
     },
     "metadata": {},
     "output_type": "display_data"
    }
   ],
   "source": [
    "apply(A3, MARGIN = 3, FUN = function(x) {return(mean(x))})"
   ]
  },
  {
   "cell_type": "markdown",
   "metadata": {},
   "source": [
    "**Ejercicio:** Obtén la media por filas de la matriz `A`, ignorando los `NA`:"
   ]
  },
  {
   "cell_type": "code",
   "execution_count": null,
   "metadata": {
    "vscode": {
     "languageId": "r"
    }
   },
   "outputs": [],
   "source": []
  },
  {
   "cell_type": "markdown",
   "metadata": {},
   "source": [
    "**Nota**: En `R` existen las funciones `rowMeans()`, `rowSums()`, `colMeans()`, `colSums()`. Éstas están ya precompiladas en `C` y son mucho más rápidas que sus equivalentes utilizando bien `apply()` o ciclos `for`."
   ]
  },
  {
   "cell_type": "markdown",
   "metadata": {},
   "source": [
    "**Ejercicio:** En la matriz `A`, queremos saber cuántos `NA` hay en cada columna (recordar funciones `sum()` e `is.na()`):"
   ]
  },
  {
   "cell_type": "code",
   "execution_count": 12,
   "metadata": {
    "vscode": {
     "languageId": "r"
    }
   },
   "outputs": [
    {
     "name": "stdout",
     "output_type": "stream",
     "text": [
      "     [,1] [,2] [,3] [,4]\n",
      "[1,]    9   NA    5    9\n",
      "[2,]    4   14   15    5\n",
      "[3,]    7   NA   10   14\n",
      "[4,]    1   15   NA   15\n",
      "[5,]    2    3   13   12\n",
      "[6,]   13    1    7   13\n"
     ]
    }
   ],
   "source": [
    "print(A)\n"
   ]
  },
  {
   "cell_type": "markdown",
   "metadata": {},
   "source": [
    "**Ejercicio:** Obtén la matriz resultado de sumar a cada columna de la matriz `A` el vector `y`:"
   ]
  },
  {
   "cell_type": "code",
   "execution_count": 13,
   "metadata": {
    "vscode": {
     "languageId": "r"
    }
   },
   "outputs": [],
   "source": [
    "y <- seq(1,6)\n"
   ]
  },
  {
   "cell_type": "markdown",
   "metadata": {},
   "source": [
    "`apply()` puede utilizarse también sobre un `data.frame`, tratándolo como si fuera una matriz."
   ]
  },
  {
   "cell_type": "markdown",
   "metadata": {},
   "source": [
    "**Ejercicio**: Del `data.frame` `alumnos`, verifica si hay alguien que se llame \"jose\" e identifica la carrera que ha estudiado. Apóyate en la función `is.element`"
   ]
  },
  {
   "cell_type": "code",
   "execution_count": 14,
   "metadata": {
    "vscode": {
     "languageId": "r"
    }
   },
   "outputs": [
    {
     "name": "stdout",
     "output_type": "stream",
     "text": [
      "  fisica matematicas biologia\n",
      "1   juan     joaquin      ana\n",
      "2  pablo     maialen   daniel\n",
      "3  maria      carlos   markel\n",
      "4   jose        <NA>  adriana\n"
     ]
    }
   ],
   "source": [
    "alumnos <-\n",
    "data.frame(fisica = c(\"juan\", \"pablo\", \"maria\", \"jose\"),\n",
    "           matematicas = c(\"joaquin\", \"maialen\", \"carlos\", NA),\n",
    "           biologia = c(\"ana\", \"daniel\", \"markel\", \"adriana\"))\n",
    "print(alumnos)\n"
   ]
  },
  {
   "cell_type": "markdown",
   "metadata": {},
   "source": [
    "## `lapply()`"
   ]
  },
  {
   "cell_type": "markdown",
   "metadata": {},
   "source": [
    "`lapply()` es la función indicada para trabajar con listas, aunque también permite iterar sobre vectores y sobre `data.frames`. Los argumentos de entrada de`lapply` son:\n",
    "\n",
    "- `X`: Lista sobre la que se desea iterar.\n",
    "- `FUN`: Función a aplicar.\n",
    "- (`...`): Argumentos adicionales para `FUN`."
   ]
  },
  {
   "cell_type": "markdown",
   "metadata": {},
   "source": [
    "**Ejercicio:** De la lista siguiente obtén la media de cada vector"
   ]
  },
  {
   "cell_type": "code",
   "execution_count": 15,
   "metadata": {
    "vscode": {
     "languageId": "r"
    }
   },
   "outputs": [
    {
     "name": "stdout",
     "output_type": "stream",
     "text": [
      "[[1]]\n",
      "[1]  9 10  5  6\n",
      "\n",
      "[[2]]\n",
      "[1] 9 9 8 4\n",
      "\n",
      "[[3]]\n",
      "[1] 4 3 6 6\n",
      "\n"
     ]
    },
    {
     "data": {
      "text/html": [
       "<ol>\n",
       "\t<li>7.5</li>\n",
       "\t<li>7.5</li>\n",
       "\t<li>4.75</li>\n",
       "</ol>\n"
      ],
      "text/latex": [
       "\\begin{enumerate}\n",
       "\\item 7.5\n",
       "\\item 7.5\n",
       "\\item 4.75\n",
       "\\end{enumerate}\n"
      ],
      "text/markdown": [
       "1. 7.5\n",
       "2. 7.5\n",
       "3. 4.75\n",
       "\n",
       "\n"
      ],
      "text/plain": [
       "[[1]]\n",
       "[1] 7.5\n",
       "\n",
       "[[2]]\n",
       "[1] 7.5\n",
       "\n",
       "[[3]]\n",
       "[1] 4.75\n"
      ]
     },
     "metadata": {},
     "output_type": "display_data"
    }
   ],
   "source": [
    "lista.vec <- list(c(9,10,5,6), \n",
    "                    c(9,9,8,4),\n",
    "                    c(4,3,6,6))\n",
    "print(lista.vec)\n",
    "lapply(lista.vec, mean)"
   ]
  },
  {
   "cell_type": "markdown",
   "metadata": {},
   "source": [
    "**Ejercicio:** De la lista de matrices siguientes, obtén las medias por columnas de cada matriz. Utiliza para ello `apply` dentro de `lapply`"
   ]
  },
  {
   "cell_type": "code",
   "execution_count": 16,
   "metadata": {
    "vscode": {
     "languageId": "r"
    }
   },
   "outputs": [
    {
     "name": "stdout",
     "output_type": "stream",
     "text": [
      "[[1]]\n",
      "     [,1] [,2] [,3]\n",
      "[1,]    9   11    9\n",
      "[2,]    6   12   13\n",
      "[3,]    1    5    5\n",
      "[4,]    4    8    1\n",
      "[5,]    5    4   14\n",
      "[6,]   15    1    4\n",
      "\n",
      "[[2]]\n",
      "     [,1] [,2] [,3]\n",
      "[1,]   10    5   14\n",
      "[2,]   14    6   15\n",
      "[3,]   15   14    4\n",
      "[4,]    9    2   10\n",
      "[5,]    8   12    8\n",
      "[6,]    5    8    5\n",
      "\n",
      "[[3]]\n",
      "     [,1] [,2] [,3]\n",
      "[1,]    5    1   15\n",
      "[2,]    8   10    9\n",
      "[3,]   14    4    6\n",
      "[4,]    7    9   13\n",
      "[5,]    4   12    4\n",
      "[6,]   11   11    3\n",
      "\n",
      "[[4]]\n",
      "     [,1] [,2] [,3]\n",
      "[1,]   13    9   14\n",
      "[2,]    3   14    4\n",
      "[3,]   15    5   13\n",
      "[4,]    9   12   10\n",
      "[5,]   12    7    8\n",
      "[6,]    7    4    1\n",
      "\n"
     ]
    }
   ],
   "source": [
    "lista.mat <- replicate(replicate(expr = sample(1:15, size = 6), n = 3), n = 4, simplify = F) # simplify = FALSE no simplifica en un array\n",
    "print(lista.mat)\n",
    "\n"
   ]
  },
  {
   "cell_type": "markdown",
   "metadata": {},
   "source": [
    "Debe tenerse en cuenta que: \n",
    "\n",
    "1. El objeto devuelto por `lapply` siempre es una lista, incluso aunque el objeto sobre el que iteramos no lo sea. Lo podemos ver con nuestro ejemplo inicial:"
   ]
  },
  {
   "cell_type": "code",
   "execution_count": 17,
   "metadata": {
    "vscode": {
     "languageId": "r"
    }
   },
   "outputs": [
    {
     "data": {
      "text/html": [
       "TRUE"
      ],
      "text/latex": [
       "TRUE"
      ],
      "text/markdown": [
       "TRUE"
      ],
      "text/plain": [
       "[1] TRUE"
      ]
     },
     "metadata": {},
     "output_type": "display_data"
    }
   ],
   "source": [
    "nombres <- c(\"Paco\",\"Álvaro\",\"María\", \"Alex\")\n",
    "is.list(lapply(nombres, tolower))"
   ]
  },
  {
   "cell_type": "markdown",
   "metadata": {},
   "source": [
    "2. Si se aplica `lapply()` a una matriz, ésta es tratada como un vector, es decir, `FUN` opera elemento a elemento.\n",
    "\n",
    "**Ejemplo:**"
   ]
  },
  {
   "cell_type": "code",
   "execution_count": 18,
   "metadata": {
    "scrolled": true,
    "vscode": {
     "languageId": "r"
    }
   },
   "outputs": [
    {
     "name": "stdout",
     "output_type": "stream",
     "text": [
      "     [,1] [,2] [,3] [,4]\n",
      "[1,]    9   NA    5    9\n",
      "[2,]    4   14   15    5\n",
      "[3,]    7   NA   10   14\n",
      "[4,]    1   15   NA   15\n",
      "[5,]    2    3   13   12\n",
      "[6,]   13    1    7   13\n"
     ]
    },
    {
     "data": {
      "text/html": [
       "<ol>\n",
       "\t<li>9</li>\n",
       "\t<li>4</li>\n",
       "\t<li>7</li>\n",
       "\t<li>1</li>\n",
       "\t<li>2</li>\n",
       "\t<li>13</li>\n",
       "\t<li>&lt;NA&gt;</li>\n",
       "\t<li>14</li>\n",
       "\t<li>&lt;NA&gt;</li>\n",
       "\t<li>15</li>\n",
       "\t<li>3</li>\n",
       "\t<li>1</li>\n",
       "\t<li>5</li>\n",
       "\t<li>15</li>\n",
       "\t<li>10</li>\n",
       "\t<li>&lt;NA&gt;</li>\n",
       "\t<li>13</li>\n",
       "\t<li>7</li>\n",
       "\t<li>9</li>\n",
       "\t<li>5</li>\n",
       "\t<li>14</li>\n",
       "\t<li>15</li>\n",
       "\t<li>12</li>\n",
       "\t<li>13</li>\n",
       "</ol>\n"
      ],
      "text/latex": [
       "\\begin{enumerate}\n",
       "\\item 9\n",
       "\\item 4\n",
       "\\item 7\n",
       "\\item 1\n",
       "\\item 2\n",
       "\\item 13\n",
       "\\item <NA>\n",
       "\\item 14\n",
       "\\item <NA>\n",
       "\\item 15\n",
       "\\item 3\n",
       "\\item 1\n",
       "\\item 5\n",
       "\\item 15\n",
       "\\item 10\n",
       "\\item <NA>\n",
       "\\item 13\n",
       "\\item 7\n",
       "\\item 9\n",
       "\\item 5\n",
       "\\item 14\n",
       "\\item 15\n",
       "\\item 12\n",
       "\\item 13\n",
       "\\end{enumerate}\n"
      ],
      "text/markdown": [
       "1. 9\n",
       "2. 4\n",
       "3. 7\n",
       "4. 1\n",
       "5. 2\n",
       "6. 13\n",
       "7. &lt;NA&gt;\n",
       "8. 14\n",
       "9. &lt;NA&gt;\n",
       "10. 15\n",
       "11. 3\n",
       "12. 1\n",
       "13. 5\n",
       "14. 15\n",
       "15. 10\n",
       "16. &lt;NA&gt;\n",
       "17. 13\n",
       "18. 7\n",
       "19. 9\n",
       "20. 5\n",
       "21. 14\n",
       "22. 15\n",
       "23. 12\n",
       "24. 13\n",
       "\n",
       "\n"
      ],
      "text/plain": [
       "[[1]]\n",
       "[1] 9\n",
       "\n",
       "[[2]]\n",
       "[1] 4\n",
       "\n",
       "[[3]]\n",
       "[1] 7\n",
       "\n",
       "[[4]]\n",
       "[1] 1\n",
       "\n",
       "[[5]]\n",
       "[1] 2\n",
       "\n",
       "[[6]]\n",
       "[1] 13\n",
       "\n",
       "[[7]]\n",
       "[1] NA\n",
       "\n",
       "[[8]]\n",
       "[1] 14\n",
       "\n",
       "[[9]]\n",
       "[1] NA\n",
       "\n",
       "[[10]]\n",
       "[1] 15\n",
       "\n",
       "[[11]]\n",
       "[1] 3\n",
       "\n",
       "[[12]]\n",
       "[1] 1\n",
       "\n",
       "[[13]]\n",
       "[1] 5\n",
       "\n",
       "[[14]]\n",
       "[1] 15\n",
       "\n",
       "[[15]]\n",
       "[1] 10\n",
       "\n",
       "[[16]]\n",
       "[1] NA\n",
       "\n",
       "[[17]]\n",
       "[1] 13\n",
       "\n",
       "[[18]]\n",
       "[1] 7\n",
       "\n",
       "[[19]]\n",
       "[1] 9\n",
       "\n",
       "[[20]]\n",
       "[1] 5\n",
       "\n",
       "[[21]]\n",
       "[1] 14\n",
       "\n",
       "[[22]]\n",
       "[1] 15\n",
       "\n",
       "[[23]]\n",
       "[1] 12\n",
       "\n",
       "[[24]]\n",
       "[1] 13\n"
      ]
     },
     "metadata": {},
     "output_type": "display_data"
    }
   ],
   "source": [
    "print(A)\n",
    "lapply(A, mean)"
   ]
  },
  {
   "cell_type": "markdown",
   "metadata": {},
   "source": [
    "3. Si se aplica `lapply` sobre un `data.frame`, éste se itera por columnas."
   ]
  },
  {
   "cell_type": "markdown",
   "metadata": {},
   "source": [
    "**Ejercicio:** Del `data.frame` `alumnos`, verifica si hay alguien que se llame \"jose\" e identifica la carrera que ha estudiado, esta vez utilizando `lapply()`:"
   ]
  },
  {
   "cell_type": "code",
   "execution_count": 19,
   "metadata": {
    "vscode": {
     "languageId": "r"
    }
   },
   "outputs": [
    {
     "name": "stdout",
     "output_type": "stream",
     "text": [
      "  fisica matematicas biologia\n",
      "1   juan     joaquin      ana\n",
      "2  pablo     maialen   daniel\n",
      "3  maria      carlos   markel\n",
      "4   jose        <NA>  adriana\n"
     ]
    }
   ],
   "source": [
    "alumnos <-\n",
    "data.frame(fisica = c(\"juan\", \"pablo\", \"maria\", \"jose\"),\n",
    "           matematicas = c(\"joaquin\", \"maialen\", \"carlos\", NA),\n",
    "           biologia = c(\"ana\", \"daniel\", \"markel\", \"adriana\"))\n",
    "print(alumnos)\n"
   ]
  },
  {
   "cell_type": "markdown",
   "metadata": {},
   "source": [
    "## `sapply()`"
   ]
  },
  {
   "cell_type": "markdown",
   "metadata": {},
   "source": [
    "La función `sapply()` es idéntica a `lapply()`, pero trata de simplificar el resultado a un vector, matriz o array.  \n",
    "**Ejemplos:**"
   ]
  },
  {
   "cell_type": "code",
   "execution_count": 20,
   "metadata": {
    "vscode": {
     "languageId": "r"
    }
   },
   "outputs": [
    {
     "data": {
      "text/html": [
       "TRUE"
      ],
      "text/latex": [
       "TRUE"
      ],
      "text/markdown": [
       "TRUE"
      ],
      "text/plain": [
       "[1] TRUE"
      ]
     },
     "metadata": {},
     "output_type": "display_data"
    }
   ],
   "source": [
    "nombres <- c(\"Paco\",\"Álvaro\",\"María\", \"Alex\")\n",
    "is.vector(sapply(nombres, tolower))  # vector de strings"
   ]
  },
  {
   "cell_type": "code",
   "execution_count": 21,
   "metadata": {
    "vscode": {
     "languageId": "r"
    }
   },
   "outputs": [
    {
     "data": {
      "text/html": [
       "TRUE"
      ],
      "text/latex": [
       "TRUE"
      ],
      "text/markdown": [
       "TRUE"
      ],
      "text/plain": [
       "[1] TRUE"
      ]
     },
     "metadata": {},
     "output_type": "display_data"
    }
   ],
   "source": [
    "alumnos <-\n",
    "data.frame(fisica = c(\"juan\", \"pablo\", \"maria\", \"jose\"),\n",
    "           matematicas = c(\"joaquin\", \"maialen\", \"carlos\", NA),\n",
    "           biologia = c(\"ana\", \"daniel\", \"markel\", \"adriana\"))\n",
    "is.vector(sapply(alumnos, is.element, el = \"jose\"))  # vector lógico (valores booleanos)"
   ]
  },
  {
   "cell_type": "markdown",
   "metadata": {},
   "source": [
    "`sapply()` tiene dos argumentos adicionales respecto a `lapply()`:\n",
    "- `simplify` Si se especifica `simplify = FALSE`, entonces es idéntico a `lapply()`.\n",
    "- `USE.NAMES` Si se especifica `USE.NAMES = TRUE` (por defecto), y `X` es de tipo `character`, se usan estos como nombres para el output."
   ]
  },
  {
   "cell_type": "code",
   "execution_count": 22,
   "metadata": {
    "vscode": {
     "languageId": "r"
    }
   },
   "outputs": [
    {
     "data": {
      "text/html": [
       "<style>\n",
       ".dl-inline {width: auto; margin:0; padding: 0}\n",
       ".dl-inline>dt, .dl-inline>dd {float: none; width: auto; display: inline-block}\n",
       ".dl-inline>dt::after {content: \":\\0020\"; padding-right: .5ex}\n",
       ".dl-inline>dt:not(:first-of-type) {padding-left: .5ex}\n",
       "</style><dl class=dl-inline><dt>Paco</dt><dd>'paco'</dd><dt>Álvaro</dt><dd>'álvaro'</dd><dt>María</dt><dd>'maría'</dd><dt>Alex</dt><dd>'alex'</dd></dl>\n"
      ],
      "text/latex": [
       "\\begin{description*}\n",
       "\\item[Paco] 'paco'\n",
       "\\item[Álvaro] 'álvaro'\n",
       "\\item[María] 'maría'\n",
       "\\item[Alex] 'alex'\n",
       "\\end{description*}\n"
      ],
      "text/markdown": [
       "Paco\n",
       ":   'paco'Álvaro\n",
       ":   'álvaro'María\n",
       ":   'maría'Alex\n",
       ":   'alex'\n",
       "\n"
      ],
      "text/plain": [
       "    Paco   Álvaro    María     Alex \n",
       "  \"paco\" \"álvaro\"  \"maría\"   \"alex\" "
      ]
     },
     "metadata": {},
     "output_type": "display_data"
    },
    {
     "data": {
      "text/html": [
       "<style>\n",
       ".list-inline {list-style: none; margin:0; padding: 0}\n",
       ".list-inline>li {display: inline-block}\n",
       ".list-inline>li:not(:last-child)::after {content: \"\\00b7\"; padding: 0 .5ex}\n",
       "</style>\n",
       "<ol class=list-inline><li>'paco'</li><li>'álvaro'</li><li>'maría'</li><li>'alex'</li></ol>\n"
      ],
      "text/latex": [
       "\\begin{enumerate*}\n",
       "\\item 'paco'\n",
       "\\item 'álvaro'\n",
       "\\item 'maría'\n",
       "\\item 'alex'\n",
       "\\end{enumerate*}\n"
      ],
      "text/markdown": [
       "1. 'paco'\n",
       "2. 'álvaro'\n",
       "3. 'maría'\n",
       "4. 'alex'\n",
       "\n",
       "\n"
      ],
      "text/plain": [
       "[1] \"paco\"   \"álvaro\" \"maría\"  \"alex\"  "
      ]
     },
     "metadata": {},
     "output_type": "display_data"
    }
   ],
   "source": [
    "nombres <- c(\"Paco\",\"Álvaro\",\"María\", \"Alex\")\n",
    "sapply(nombres, tolower)  # vector de strings\n",
    "sapply(nombres, tolower, USE.NAMES = FALSE)  # vector de strings"
   ]
  },
  {
   "cell_type": "markdown",
   "metadata": {},
   "source": [
    "## `mapply()`"
   ]
  },
  {
   "cell_type": "markdown",
   "metadata": {},
   "source": [
    "Hasta ahora hemos visto cómo operar sobre un *único* objeto (por ejemplo una lista o una matriz). `mapply()` (*multivariate apply*) permite operar sobre más de un objeto a la vez.\n",
    "\n",
    "Sus argumentos de entrada son:\n",
    "- `FUN`: Función a aplicar.\n",
    "- (`...`): Argumentos sobre los que vectorizar.\n",
    "- `MoreArgs`: Lista de argumentos adicionales (no vectorizados).\n",
    "- `SIMPLIFY`: Si se marca como `TRUE`, se intentará *simplificar* el resultado a un vector, matriz o array multidimensional.\n",
    "\n",
    "\n",
    "**Ejemplo**: En este caso tenemos dos listas de vectores, y queremos sumar vector a vector. Podemos hacerlo con `mapply()`:"
   ]
  },
  {
   "cell_type": "code",
   "execution_count": 23,
   "metadata": {
    "vscode": {
     "languageId": "r"
    }
   },
   "outputs": [
    {
     "data": {
      "text/html": [
       "<table class=\"dataframe\">\n",
       "<caption>A matrix: 4 × 3 of type dbl</caption>\n",
       "<tbody>\n",
       "\t<tr><td>101</td><td> 399</td><td>-496</td></tr>\n",
       "\t<tr><td>201</td><td> 132</td><td>-308</td></tr>\n",
       "\t<tr><td>110</td><td>1342</td><td> 695</td></tr>\n",
       "\t<tr><td>230</td><td> 148</td><td>-627</td></tr>\n",
       "</tbody>\n",
       "</table>\n"
      ],
      "text/latex": [
       "A matrix: 4 × 3 of type dbl\n",
       "\\begin{tabular}{lll}\n",
       "\t 101 &  399 & -496\\\\\n",
       "\t 201 &  132 & -308\\\\\n",
       "\t 110 & 1342 &  695\\\\\n",
       "\t 230 &  148 & -627\\\\\n",
       "\\end{tabular}\n"
      ],
      "text/markdown": [
       "\n",
       "A matrix: 4 × 3 of type dbl\n",
       "\n",
       "| 101 |  399 | -496 |\n",
       "| 201 |  132 | -308 |\n",
       "| 110 | 1342 |  695 |\n",
       "| 230 |  148 | -627 |\n",
       "\n"
      ],
      "text/plain": [
       "     [,1] [,2] [,3]\n",
       "[1,] 101   399 -496\n",
       "[2,] 201   132 -308\n",
       "[3,] 110  1342  695\n",
       "[4,] 230   148 -627"
      ]
     },
     "metadata": {},
     "output_type": "display_data"
    }
   ],
   "source": [
    "lista.vec1 <- list(c(1,1,10,20), c(-1,12,122,44), c(34,12,65,23))\n",
    "lista.vec2 <- list(c(100,200,100,210), c(400,120,1220,104), c(-530,-320,630,-650))\n",
    "mapply(FUN = function(x,y) x+y, lista.vec1, lista.vec2)"
   ]
  },
  {
   "cell_type": "markdown",
   "metadata": {},
   "source": [
    "Por defecto `mapply()` simplifica el resultado en una matriz. Podemos evitarlo si especificamos `SIMPLIFY = FALSE`, lo que nos devolverá como resultado una lista:"
   ]
  },
  {
   "cell_type": "code",
   "execution_count": 24,
   "metadata": {
    "vscode": {
     "languageId": "r"
    }
   },
   "outputs": [
    {
     "data": {
      "text/html": [
       "<ol>\n",
       "\t<li><style>\n",
       ".list-inline {list-style: none; margin:0; padding: 0}\n",
       ".list-inline>li {display: inline-block}\n",
       ".list-inline>li:not(:last-child)::after {content: \"\\00b7\"; padding: 0 .5ex}\n",
       "</style>\n",
       "<ol class=list-inline><li>101</li><li>201</li><li>110</li><li>230</li></ol>\n",
       "</li>\n",
       "\t<li><style>\n",
       ".list-inline {list-style: none; margin:0; padding: 0}\n",
       ".list-inline>li {display: inline-block}\n",
       ".list-inline>li:not(:last-child)::after {content: \"\\00b7\"; padding: 0 .5ex}\n",
       "</style>\n",
       "<ol class=list-inline><li>399</li><li>132</li><li>1342</li><li>148</li></ol>\n",
       "</li>\n",
       "\t<li><style>\n",
       ".list-inline {list-style: none; margin:0; padding: 0}\n",
       ".list-inline>li {display: inline-block}\n",
       ".list-inline>li:not(:last-child)::after {content: \"\\00b7\"; padding: 0 .5ex}\n",
       "</style>\n",
       "<ol class=list-inline><li>-496</li><li>-308</li><li>695</li><li>-627</li></ol>\n",
       "</li>\n",
       "</ol>\n"
      ],
      "text/latex": [
       "\\begin{enumerate}\n",
       "\\item \\begin{enumerate*}\n",
       "\\item 101\n",
       "\\item 201\n",
       "\\item 110\n",
       "\\item 230\n",
       "\\end{enumerate*}\n",
       "\n",
       "\\item \\begin{enumerate*}\n",
       "\\item 399\n",
       "\\item 132\n",
       "\\item 1342\n",
       "\\item 148\n",
       "\\end{enumerate*}\n",
       "\n",
       "\\item \\begin{enumerate*}\n",
       "\\item -496\n",
       "\\item -308\n",
       "\\item 695\n",
       "\\item -627\n",
       "\\end{enumerate*}\n",
       "\n",
       "\\end{enumerate}\n"
      ],
      "text/markdown": [
       "1. 1. 101\n",
       "2. 201\n",
       "3. 110\n",
       "4. 230\n",
       "\n",
       "\n",
       "\n",
       "2. 1. 399\n",
       "2. 132\n",
       "3. 1342\n",
       "4. 148\n",
       "\n",
       "\n",
       "\n",
       "3. 1. -496\n",
       "2. -308\n",
       "3. 695\n",
       "4. -627\n",
       "\n",
       "\n",
       "\n",
       "\n",
       "\n"
      ],
      "text/plain": [
       "[[1]]\n",
       "[1] 101 201 110 230\n",
       "\n",
       "[[2]]\n",
       "[1]  399  132 1342  148\n",
       "\n",
       "[[3]]\n",
       "[1] -496 -308  695 -627\n"
      ]
     },
     "metadata": {},
     "output_type": "display_data"
    }
   ],
   "source": [
    "mapply(FUN = function(x,y) x+y, lista.vec1, lista.vec2, SIMPLIFY = FALSE)"
   ]
  },
  {
   "cell_type": "markdown",
   "metadata": {},
   "source": [
    "La manera de asignar argumentos adicionales es mediante el argumento `MoreArgs` (atención, `MoreArgs`debe ser una lista). \n",
    "\n",
    "**Ejercicio:** ¿Qué crees que hace el siguiente código?"
   ]
  },
  {
   "cell_type": "code",
   "execution_count": 25,
   "metadata": {
    "vscode": {
     "languageId": "r"
    }
   },
   "outputs": [],
   "source": [
    "#mapply(FUN = function(x,y, absoluto = FALSE) {\n",
    "#                if (absoluto) return(abs(x+y))\n",
    "#                else return(x+y)\n",
    "#             },\n",
    "#       lista.vec1, lista.vec2, SIMPLIFY = FALSE, MoreArgs = list(absoluto = TRUE)\n",
    "#     )"
   ]
  },
  {
   "cell_type": "markdown",
   "metadata": {},
   "source": [
    "**Ejercicio:** De la lista `mi.lista.1`, obtén el elemento $5$ del primer vector, el elemento $4$ del segundo vector y el elemento $2$ del tercer vector:"
   ]
  },
  {
   "cell_type": "code",
   "execution_count": 26,
   "metadata": {
    "vscode": {
     "languageId": "r"
    }
   },
   "outputs": [
    {
     "name": "stdout",
     "output_type": "stream",
     "text": [
      "[[1]]\n",
      "[1] 4 2 5 2 4\n",
      "\n",
      "[[2]]\n",
      "[1] 3 6 9 7 5\n",
      "\n",
      "[[3]]\n",
      "[1]  5  1  1 10  1\n",
      "\n"
     ]
    }
   ],
   "source": [
    "mi.lista.1 <- replicate(sample(1:10, size = 5, replace = T), n = 3, simplify = F)  # lista con 3 elementos, donde cada elemento es un vector de 5 componentes\n",
    "print(mi.lista.1)\n"
   ]
  },
  {
   "cell_type": "markdown",
   "metadata": {},
   "source": [
    "**Ejercicio:** Las listas `mi.lista.1` y `mi.lista.2` contienen el mismo número de vectores. Obtén, para cada par de vectores, el valor máximo:"
   ]
  },
  {
   "cell_type": "code",
   "execution_count": 27,
   "metadata": {
    "vscode": {
     "languageId": "r"
    }
   },
   "outputs": [
    {
     "name": "stdout",
     "output_type": "stream",
     "text": [
      "[[1]]\n",
      "[1] 4 2 5 2 4\n",
      "\n",
      "[[2]]\n",
      "[1] 3 6 9 7 5\n",
      "\n",
      "[[3]]\n",
      "[1]  5  1  1 10  1\n",
      "\n",
      "[[1]]\n",
      "[1] 16 49 27 39 38\n",
      "\n",
      "[[2]]\n",
      "[1] 16 34 29 45 35\n",
      "\n",
      "[[3]]\n",
      "[1] 10  6 39 49 33\n",
      "\n"
     ]
    }
   ],
   "source": [
    "mi.lista.2 <- replicate(sample(1:50, size = 5, replace = T), n = 3, simplify = F)  # lista con 3 elementos, donde cada elemento es un vector de 5 componentes\n",
    "print(mi.lista.1)\n",
    "print(mi.lista.2)\n",
    "  "
   ]
  },
  {
   "cell_type": "markdown",
   "metadata": {},
   "source": [
    "**Ejercicio:** Repite el ejercio anterior. Esta vez los vectores pueden tener `NA` y queremos ignorarlos:"
   ]
  },
  {
   "cell_type": "code",
   "execution_count": 28,
   "metadata": {
    "vscode": {
     "languageId": "r"
    }
   },
   "outputs": [
    {
     "name": "stdout",
     "output_type": "stream",
     "text": [
      "[[1]]\n",
      "[1]  4  2 NA  2  4\n",
      "\n",
      "[[2]]\n",
      "[1] 3 6 9 7 5\n",
      "\n",
      "[[3]]\n",
      "[1]  5  1  1 10  1\n",
      "\n",
      "[[1]]\n",
      "[1] 16 49 27 39 38\n",
      "\n",
      "[[2]]\n",
      "[1] 16 34 29 45 35\n",
      "\n",
      "[[3]]\n",
      "[1] 10  6 39 NA 33\n",
      "\n"
     ]
    },
    {
     "data": {
      "text/html": [
       "<style>\n",
       ".list-inline {list-style: none; margin:0; padding: 0}\n",
       ".list-inline>li {display: inline-block}\n",
       ".list-inline>li:not(:last-child)::after {content: \"\\00b7\"; padding: 0 .5ex}\n",
       "</style>\n",
       "<ol class=list-inline><li>49</li><li>45</li><li>39</li></ol>\n"
      ],
      "text/latex": [
       "\\begin{enumerate*}\n",
       "\\item 49\n",
       "\\item 45\n",
       "\\item 39\n",
       "\\end{enumerate*}\n"
      ],
      "text/markdown": [
       "1. 49\n",
       "2. 45\n",
       "3. 39\n",
       "\n",
       "\n"
      ],
      "text/plain": [
       "[1] 49 45 39"
      ]
     },
     "metadata": {},
     "output_type": "display_data"
    }
   ],
   "source": [
    "mi.lista.1[[1]][3] <- NA\n",
    "mi.lista.2[[3]][4] <- NA\n",
    "print(mi.lista.1)\n",
    "print(mi.lista.2)\n",
    "\n",
    "mapply(FUN = max, mi.lista.1, mi.lista.2, MoreArgs = list(na.rm = TRUE))  "
   ]
  },
  {
   "cell_type": "markdown",
   "metadata": {},
   "source": [
    "**Ejercicio:** En el `data.frame` `alumnos`, verifica usando `mapply()` si alguien que se llame \"jose\" ha estudiado física, alguien que se llame \"maialen\" ha estudiado matemáticas y alguien que se llame \"raquel\" ha estudiado biología."
   ]
  },
  {
   "cell_type": "code",
   "execution_count": 29,
   "metadata": {
    "vscode": {
     "languageId": "r"
    }
   },
   "outputs": [
    {
     "name": "stdout",
     "output_type": "stream",
     "text": [
      "  fisica matematicas biologia\n",
      "1   juan     joaquin      ana\n",
      "2  pablo     maialen   daniel\n",
      "3  maria      carlos   markel\n",
      "4   jose        <NA>  adriana\n"
     ]
    }
   ],
   "source": [
    "print(alumnos)\n"
   ]
  },
  {
   "cell_type": "markdown",
   "metadata": {},
   "source": [
    "**Ejercicio:** Para cada par de vectores de las listas `lista.vec1` y `lista.vec2`, obtén el elemento que es mayor en valor absoluto. Utiliza para ello `mapply` y una función `max.val.abs` que definida por tí."
   ]
  },
  {
   "cell_type": "code",
   "execution_count": 30,
   "metadata": {
    "vscode": {
     "languageId": "r"
    }
   },
   "outputs": [
    {
     "name": "stdout",
     "output_type": "stream",
     "text": [
      "[[1]]\n",
      "[1]  19  13 -17   4  17\n",
      "\n",
      "[[2]]\n",
      "[1]  -4   3 -12   9 -12\n",
      "\n",
      "[[3]]\n",
      "[1] -10   1  11  19 -18\n",
      "\n",
      "[[1]]\n",
      "[1]   8   8 -10   9  -7\n",
      "\n",
      "[[2]]\n",
      "[1]   2 -10  -3  10  -6\n",
      "\n",
      "[[3]]\n",
      "[1] -1  1 -8 10 -8\n",
      "\n"
     ]
    }
   ],
   "source": [
    "lista.vec1 <- replicate(sample(-20:20, size = 5, replace = T), n = 3, simplify = F)  # lista con 3 elementos, donde cada elemento es un vector de 5 componentes\n",
    "lista.vec2 <- replicate(sample(-10:10, size = 5, replace = T), n = 3, simplify = F)  # lista con 3 elementos, donde cada elemento es un vector de 5 componentes\n",
    "print(lista.vec1)\n",
    "print(lista.vec2)\n",
    "\n"
   ]
  },
  {
   "cell_type": "markdown",
   "metadata": {},
   "source": [
    "## Otras funciones: `rapply()`, `tapply()` y `vapply()`"
   ]
  },
  {
   "cell_type": "markdown",
   "metadata": {},
   "source": [
    "Existen más funciones en la familia *Apply* diseñadas para tareas más específicas. En esta sección veremos `rapply()`, `tapply()` y `vapply()` someramente a través de ejemplos."
   ]
  },
  {
   "cell_type": "markdown",
   "metadata": {},
   "source": [
    "### `rapply()`"
   ]
  },
  {
   "cell_type": "markdown",
   "metadata": {},
   "source": [
    "Esta función está pensada para operar **recursivamente** sobre listas. Es especialmente útil cuando nos encontramos con listas mal formateadas que contienen distintos tipos de objetos.\n",
    "\n",
    "  **Ejemplo:** La siguiente lista contiene números y listas de números. Supongamos que queremos asignar un `NA` a todos los elementos de la lista que sean negativos. Observa lo que ocurre si se utiliza `lapply()`:"
   ]
  },
  {
   "cell_type": "code",
   "execution_count": 31,
   "metadata": {
    "vscode": {
     "languageId": "r"
    }
   },
   "outputs": [
    {
     "name": "stdout",
     "output_type": "stream",
     "text": [
      "[[1]]\n",
      "[1] 1\n",
      "\n",
      "[[2]]\n",
      "[1] 2\n",
      "\n",
      "[[3]]\n",
      "[1] -1\n",
      "\n",
      "[[4]]\n",
      "[[4]][[1]]\n",
      "[1] 10\n",
      "\n",
      "[[4]][[2]]\n",
      "[1] 12\n",
      "\n",
      "[[4]][[3]]\n",
      "[1] -1\n",
      "\n",
      "\n",
      "[[5]]\n",
      "[1] 4\n",
      "\n",
      "[[6]]\n",
      "[1] -4\n",
      "\n",
      "[[7]]\n",
      "[[7]][[1]]\n",
      "[1] 1\n",
      "\n",
      "[[7]][[2]]\n",
      "[1] 1\n",
      "\n",
      "\n",
      "[[8]]\n",
      "[[8]][[1]]\n",
      "[1] -1\n",
      "\n",
      "[[8]][[2]]\n",
      "[1] -1\n",
      "\n",
      "[[8]][[3]]\n",
      "[1] -2\n",
      "\n",
      "[[8]][[4]]\n",
      "[1] 5\n",
      "\n",
      "\n",
      "[[9]]\n",
      "[1] 3\n",
      "\n",
      "[[10]]\n",
      "[1] 6\n",
      "\n",
      "[[11]]\n",
      "[1] 1\n",
      "\n",
      "[[12]]\n",
      "[1] -1\n",
      "\n"
     ]
    },
    {
     "ename": "ERROR",
     "evalue": "Error in if (x < 0) return(NA) else return(x): the condition has length > 1\n",
     "output_type": "error",
     "traceback": [
      "Error in if (x < 0) return(NA) else return(x): the condition has length > 1\nTraceback:\n",
      "1. FUN(X[[i]], ...)",
      "2. .handleSimpleError(function (cnd) \n . {\n .     watcher$capture_plot_and_output()\n .     cnd <- sanitize_call(cnd)\n .     watcher$push(cnd)\n .     switch(on_error, continue = invokeRestart(\"eval_continue\"), \n .         stop = invokeRestart(\"eval_stop\"), error = NULL)\n . }, \"the condition has length > 1\", base::quote(if (x < 0) return(NA) else return(x)))"
     ]
    }
   ],
   "source": [
    "lista.e <- list(1, 2, -1, list(10,12,-1), 4, -4, list(1,1), list(-1,-1,-2,5), 3, 6, 1, -1)\n",
    "print(lista.e)\n",
    "lapply(lista.e, function(x){\n",
    "                    if(x<0) return(NA)\n",
    "                    else return(x)\n",
    "    } )"
   ]
  },
  {
   "cell_type": "markdown",
   "metadata": {},
   "source": [
    "`rapply()` permite operar de manera recursiva sobre la lista sin preocuparnos del mal formato:"
   ]
  },
  {
   "cell_type": "code",
   "execution_count": null,
   "metadata": {
    "vscode": {
     "languageId": "r"
    }
   },
   "outputs": [
    {
     "data": {
      "text/html": [
       "<style>\n",
       ".list-inline {list-style: none; margin:0; padding: 0}\n",
       ".list-inline>li {display: inline-block}\n",
       ".list-inline>li:not(:last-child)::after {content: \"\\00b7\"; padding: 0 .5ex}\n",
       "</style>\n",
       "<ol class=list-inline><li>1</li><li>2</li><li>&lt;NA&gt;</li><li>10</li><li>12</li><li>&lt;NA&gt;</li><li>4</li><li>&lt;NA&gt;</li><li>1</li><li>1</li><li>&lt;NA&gt;</li><li>&lt;NA&gt;</li><li>&lt;NA&gt;</li><li>5</li><li>3</li><li>6</li><li>1</li><li>&lt;NA&gt;</li></ol>\n"
      ],
      "text/latex": [
       "\\begin{enumerate*}\n",
       "\\item 1\n",
       "\\item 2\n",
       "\\item <NA>\n",
       "\\item 10\n",
       "\\item 12\n",
       "\\item <NA>\n",
       "\\item 4\n",
       "\\item <NA>\n",
       "\\item 1\n",
       "\\item 1\n",
       "\\item <NA>\n",
       "\\item <NA>\n",
       "\\item <NA>\n",
       "\\item 5\n",
       "\\item 3\n",
       "\\item 6\n",
       "\\item 1\n",
       "\\item <NA>\n",
       "\\end{enumerate*}\n"
      ],
      "text/markdown": [
       "1. 1\n",
       "2. 2\n",
       "3. &lt;NA&gt;\n",
       "4. 10\n",
       "5. 12\n",
       "6. &lt;NA&gt;\n",
       "7. 4\n",
       "8. &lt;NA&gt;\n",
       "9. 1\n",
       "10. 1\n",
       "11. &lt;NA&gt;\n",
       "12. &lt;NA&gt;\n",
       "13. &lt;NA&gt;\n",
       "14. 5\n",
       "15. 3\n",
       "16. 6\n",
       "17. 1\n",
       "18. &lt;NA&gt;\n",
       "\n",
       "\n"
      ],
      "text/plain": [
       " [1]  1  2 NA 10 12 NA  4 NA  1  1 NA NA NA  5  3  6  1 NA"
      ]
     },
     "metadata": {},
     "output_type": "display_data"
    }
   ],
   "source": [
    "rapply(lista.e, function(x){\n",
    "                    if(x<0) return(NA)\n",
    "                    else return(x)\n",
    "                })"
   ]
  },
  {
   "cell_type": "markdown",
   "metadata": {},
   "source": [
    "No sólo eso, también permite especificar el tipo de argumento sobre el que se quiere operar utilizando el argumento `clases`. \n",
    "\n",
    "  **Ejercicio**: Utiliza `rapply()` para elevar al cuadrado todos los elementos númericos de la siguiente lista:"
   ]
  },
  {
   "cell_type": "code",
   "execution_count": null,
   "metadata": {
    "vscode": {
     "languageId": "r"
    }
   },
   "outputs": [],
   "source": [
    "lista.e2 <- list(2, 1, 2, NA, 12, \"err\", list(\"err\", 1, 3), 5, NA, list(), NULL, 2)\n",
    "\n"
   ]
  },
  {
   "cell_type": "markdown",
   "metadata": {},
   "source": [
    "### `tapply()`"
   ]
  },
  {
   "cell_type": "markdown",
   "metadata": {},
   "source": [
    "`tapply()` está indicada cuando hay que aplicar una función a una variable, dividiendo ésta en grupos según dicta otra variable. La variable sobre la que iterar es, como viene siendo habitual, `X`, y el argumento por el que queremos agrupar es `INDEX`.\n",
    "\n",
    "**Ejercicio**: Utiliza `tapply()` para calcular, en el dataset `iris`, la media de la variable $Sepal.Length$ para cada especie:"
   ]
  },
  {
   "cell_type": "code",
   "execution_count": null,
   "metadata": {
    "vscode": {
     "languageId": "r"
    }
   },
   "outputs": [],
   "source": []
  },
  {
   "cell_type": "markdown",
   "metadata": {},
   "source": [
    "### `vapply()`"
   ]
  },
  {
   "cell_type": "markdown",
   "metadata": {},
   "source": [
    "Esta función es similar a `sapply()`, con la diferencia de que es posible controlar la clase del output, razón por la cual `vapply()` es considerada más robusta que `sapply()`, ya que evita resultados inesperados a la hora de trabajar con estructuras complejas. No sólo eso, también puede ser ligeramente más eficiente, puesto que no tiene que decidir la estructura de salida, ya que la impone el usuario. Veámoslo con un par de **ejemplos:**\n",
    "\n",
    "Queremos, de `lista1`, devolver `TRUE` si la sublista contiene alguna `FALSE` si no. Programamos nuestra función `busca.e`:"
   ]
  },
  {
   "cell_type": "code",
   "execution_count": null,
   "metadata": {
    "vscode": {
     "languageId": "r"
    }
   },
   "outputs": [],
   "source": [
    "lista1 <- list( c(\"a\",\"e\",\"i\",\"o\",\"u\"), c(\"m\",\"n\",\"l\",\"r\"), c(\"f\",\"e\",\"r\",\"m\",\"e\"))\n",
    "busca.e <- function(x) x==\"e\""
   ]
  },
  {
   "cell_type": "markdown",
   "metadata": {},
   "source": [
    "Buscamos un vector de tres elementos que contenga `TRUE` si la lista contenía alguna `\"e\"` y `FALSE` si no."
   ]
  },
  {
   "cell_type": "code",
   "execution_count": null,
   "metadata": {
    "vscode": {
     "languageId": "r"
    }
   },
   "outputs": [
    {
     "data": {
      "text/html": [
       "<ol>\n",
       "\t<li><style>\n",
       ".list-inline {list-style: none; margin:0; padding: 0}\n",
       ".list-inline>li {display: inline-block}\n",
       ".list-inline>li:not(:last-child)::after {content: \"\\00b7\"; padding: 0 .5ex}\n",
       "</style>\n",
       "<ol class=list-inline><li>FALSE</li><li>TRUE</li><li>FALSE</li><li>FALSE</li><li>FALSE</li></ol>\n",
       "</li>\n",
       "\t<li><style>\n",
       ".list-inline {list-style: none; margin:0; padding: 0}\n",
       ".list-inline>li {display: inline-block}\n",
       ".list-inline>li:not(:last-child)::after {content: \"\\00b7\"; padding: 0 .5ex}\n",
       "</style>\n",
       "<ol class=list-inline><li>FALSE</li><li>FALSE</li><li>FALSE</li><li>FALSE</li></ol>\n",
       "</li>\n",
       "\t<li><style>\n",
       ".list-inline {list-style: none; margin:0; padding: 0}\n",
       ".list-inline>li {display: inline-block}\n",
       ".list-inline>li:not(:last-child)::after {content: \"\\00b7\"; padding: 0 .5ex}\n",
       "</style>\n",
       "<ol class=list-inline><li>FALSE</li><li>TRUE</li><li>FALSE</li><li>FALSE</li><li>TRUE</li></ol>\n",
       "</li>\n",
       "</ol>\n"
      ],
      "text/latex": [
       "\\begin{enumerate}\n",
       "\\item \\begin{enumerate*}\n",
       "\\item FALSE\n",
       "\\item TRUE\n",
       "\\item FALSE\n",
       "\\item FALSE\n",
       "\\item FALSE\n",
       "\\end{enumerate*}\n",
       "\n",
       "\\item \\begin{enumerate*}\n",
       "\\item FALSE\n",
       "\\item FALSE\n",
       "\\item FALSE\n",
       "\\item FALSE\n",
       "\\end{enumerate*}\n",
       "\n",
       "\\item \\begin{enumerate*}\n",
       "\\item FALSE\n",
       "\\item TRUE\n",
       "\\item FALSE\n",
       "\\item FALSE\n",
       "\\item TRUE\n",
       "\\end{enumerate*}\n",
       "\n",
       "\\end{enumerate}\n"
      ],
      "text/markdown": [
       "1. 1. FALSE\n",
       "2. TRUE\n",
       "3. FALSE\n",
       "4. FALSE\n",
       "5. FALSE\n",
       "\n",
       "\n",
       "\n",
       "2. 1. FALSE\n",
       "2. FALSE\n",
       "3. FALSE\n",
       "4. FALSE\n",
       "\n",
       "\n",
       "\n",
       "3. 1. FALSE\n",
       "2. TRUE\n",
       "3. FALSE\n",
       "4. FALSE\n",
       "5. TRUE\n",
       "\n",
       "\n",
       "\n",
       "\n",
       "\n"
      ],
      "text/plain": [
       "[[1]]\n",
       "[1] FALSE  TRUE FALSE FALSE FALSE\n",
       "\n",
       "[[2]]\n",
       "[1] FALSE FALSE FALSE FALSE\n",
       "\n",
       "[[3]]\n",
       "[1] FALSE  TRUE FALSE FALSE  TRUE\n"
      ]
     },
     "metadata": {},
     "output_type": "display_data"
    }
   ],
   "source": [
    "sapply(lista1, busca.e)"
   ]
  },
  {
   "cell_type": "markdown",
   "metadata": {},
   "source": [
    "Sin embargo, como `busca.e` no la hemos hecho del todo bien, obtenemos una lista que no es lo que esperamos. Es más robusto controlar la estructura pidiendo que nos devuelva específicamente un objeto de tipo `logical` de longitud $1$, lo que puede hacerse con `vapply()`:"
   ]
  },
  {
   "cell_type": "code",
   "execution_count": null,
   "metadata": {
    "vscode": {
     "languageId": "r"
    }
   },
   "outputs": [
    {
     "ename": "ERROR",
     "evalue": "Error in vapply(lista1, busca.e, logical(1)): Los valores deben ser de longitud 1, \npero el resultado FUN(X [[1]]) es la longitud 5 \n",
     "output_type": "error",
     "traceback": [
      "Error in vapply(lista1, busca.e, logical(1)): Los valores deben ser de longitud 1, \npero el resultado FUN(X [[1]]) es la longitud 5 \nTraceback:\n",
      "1. vapply(lista1, busca.e, logical(1))"
     ]
    }
   ],
   "source": [
    "vapply(lista1, busca.e, logical(1))"
   ]
  },
  {
   "cell_type": "markdown",
   "metadata": {},
   "source": [
    "`vapply()` comprueba el output y nos avisa de que estamos intentando devolver resultados de longitud $5$ en lugar de resultados de longitud $1$ (*`values must be length 1`*). \n",
    "\n",
    "## Buenas prácticas y errores comunes\n",
    "\n",
    "- Prefiere funciones vectorizadas (`rowMeans`, `colSums`, etc.) cuando estén disponibles.\n",
    "- Usa `vapply` si necesitas asegurar el tipo y longitud del resultado.\n",
    "- Recuerda que `lapply` siempre devuelve una lista, aunque el input sea un vector.\n",
    "- Si la función aplicada puede devolver `NA`, usa argumentos como `na.rm=TRUE`.\n",
    "\n",
    "## Recursos adicionales\n",
    "\n",
    "- [Control Structures - R Documentation](https://stat.ethz.ch/R-manual/R-devel/library/base/html/apply.html)\n",
    "- [R for Data Science: Iteration](https://r4ds.had.co.nz/iteration.html)\n",
    "\n",
    "## Ejercicios de autoevaluación\n",
    "\n",
    "- Usa `apply` para calcular la desviación estándar de cada columna de una matriz.\n",
    "- Usa `lapply` para transformar una lista de data.frames, extrayendo una columna específica.\n",
    "- Utiliza `tapply` para agrupar y sumar valores por factor en un vector.\n",
    "- Modifica un ejemplo para que utilice `vapply` en vez de `sapply`."
   ]
  },
  {
   "cell_type": "markdown",
   "metadata": {},
   "source": [
    "### Nota final\n",
    "\n",
    "Utilizar las funciones de la familia *Apply* permite escribir código en `R` de manera concisa y eficiente. Sin embargo, estas funciones no son *per se* más rápidas que un ciclo `for` bien definido. En ese sentido, la razón por la que habitualmente las funciones de la familia *Apply* resultan ser más rápidas es porque éstas reservan espacio en memoria de antemano de manera implícita. Si se hace esto manualmente y se programa correctamente el ciclo `for`, puede comprobarse que los tiempos de ejecución son similares.\n",
    "\n",
    "Nótese por último que si existe una función vectorizada para la operación que se quisiera llevar a cabo, sea con `apply()` o un ciclo, conviene usar dicha función. Por ejemplo, calcular la media por columnas de una matriz puede hacerse con un ciclo y mediante el comando `apply(foo, 2, mean)`, pero es más eficiente si se utiliza la función de `colMeans(foo)`.\n",
    "\n",
    "Por último, las funciones de la familia *Apply* abren la puerta a **paralelizar** de manera inmediata."
   ]
  },
  {
   "cell_type": "markdown",
   "metadata": {},
   "source": [
    "# Paralelizando con la librería *parallel*"
   ]
  },
  {
   "cell_type": "markdown",
   "metadata": {},
   "source": [
    "Cualquier ciclo que programemos se ejecuta de manera secuencial, lo que implica que se está usando un solo procesador. Paralelizar implica subdividir la tarea en subtareas para que sean procesadas por los diferentes núcleos/nodos (o procesadores, si nuestra máquina tiene más de uno)."
   ]
  },
  {
   "cell_type": "markdown",
   "metadata": {},
   "source": [
    "Las funciones y metodología que hemos visto hasta ahora permiten paralelizar procesos de manera muy sencilla. Precisamente porque se está repitiendo una tarea múltiples veces de manera independiente, todas ellas son de naturaleza paralelizable. Para hacerlo, basta tener en cuenta que, a excepción de `mapply()`, las funciones que hemos visto tienen su equivalente en la librería `parallel`: `parApply()` `parLapply()`, `parSapply()`.  \n",
    "\n",
    "Funcionan exactamente igual, pero requieren como primer argumento un objeto de tipo *cluster* de `parallel`, que podemos iniciar con la función `makeCluster()`.\n",
    "\n",
    "En Mac/Linux la sintaxis básica para iniciar este objeto es `makeCluster(numero_nodos, type = \"FORK\")`, que inicia un *cluster* de tipo *FORK* con `numero_nodos` nodos (la cantidad de *workers* para el proceso a paralelizar).\n",
    "\n",
    "Este tipo de *cluster* no está disponible en Windows, con lo que se debe usar un cluster de tipo *PSOCK* (Parallel Socket Cluster), con `type = PSOCK`. La diferencia principal reside en que con *FORK* todas las variables y funciones quedan automáticamente exportadas al *cluster*, con lo que no tenemos que preocuparnos de hacerlo manualmente.\n",
    "\n",
    "Vamos a ilustrar esto con un **ejemplo**. Además de la librería `parallel`, también vamos a cargar la librería `microbenchmark`, para hacer pruebas de rendimiento:"
   ]
  },
  {
   "cell_type": "code",
   "execution_count": null,
   "metadata": {
    "vscode": {
     "languageId": "r"
    }
   },
   "outputs": [],
   "source": [
    "library(parallel) \n",
    "library(microbenchmark)"
   ]
  },
  {
   "cell_type": "markdown",
   "metadata": {},
   "source": [
    "La función `detectCores()` permite ver la cantidad de núcleos/nodos disponibles en el sistema:"
   ]
  },
  {
   "cell_type": "code",
   "execution_count": null,
   "metadata": {
    "vscode": {
     "languageId": "r"
    }
   },
   "outputs": [
    {
     "data": {
      "text/html": [
       "8"
      ],
      "text/latex": [
       "8"
      ],
      "text/markdown": [
       "8"
      ],
      "text/plain": [
       "[1] 8"
      ]
     },
     "metadata": {},
     "output_type": "display_data"
    }
   ],
   "source": [
    "detectCores()"
   ]
  },
  {
   "cell_type": "markdown",
   "metadata": {},
   "source": [
    "Lo ideal es siempre dejar libre al menos uno para el sistema, de modo que la práctica más habitual es utilizar como número de nodos `detectCores()-1`, "
   ]
  },
  {
   "cell_type": "code",
   "execution_count": null,
   "metadata": {
    "vscode": {
     "languageId": "r"
    }
   },
   "outputs": [
    {
     "data": {
      "text/plain": [
       "socket cluster with 7 nodes on host ‘localhost’"
      ]
     },
     "metadata": {},
     "output_type": "display_data"
    }
   ],
   "source": [
    "cl <- makeCluster(spec = detectCores()-1, type = \"FORK\") # iniciamos el cluster\n",
    "cl"
   ]
  },
  {
   "cell_type": "markdown",
   "metadata": {},
   "source": [
    "Vamos a crear una lista compuesta por matrices grandes y utilizamos paralelización para calcular el valor medio de cada matriz:"
   ]
  },
  {
   "cell_type": "code",
   "execution_count": null,
   "metadata": {
    "vscode": {
     "languageId": "r"
    }
   },
   "outputs": [
    {
     "name": "stdout",
     "output_type": "stream",
     "text": [
      "List of 20\n",
      " $ : int [1:50, 1:30] 43 17 1 26 45 33 19 26 23 4 ...\n",
      " $ : int [1:50, 1:30] 35 6 6 42 35 13 11 20 18 15 ...\n",
      " $ : int [1:50, 1:30] 27 14 10 43 19 46 1 19 40 14 ...\n",
      " $ : int [1:50, 1:30] 20 28 19 1 36 24 16 32 4 18 ...\n",
      " $ : int [1:50, 1:30] 7 41 25 24 15 4 14 23 23 40 ...\n",
      " $ : int [1:50, 1:30] 20 46 43 41 28 38 26 29 31 32 ...\n",
      " $ : int [1:50, 1:30] 34 8 37 15 4 19 24 28 30 27 ...\n",
      " $ : int [1:50, 1:30] 13 33 37 46 27 18 11 34 22 16 ...\n",
      " $ : int [1:50, 1:30] 18 28 44 27 24 32 40 25 10 30 ...\n",
      " $ : int [1:50, 1:30] 47 8 33 12 3 33 50 49 3 46 ...\n",
      " $ : int [1:50, 1:30] 3 27 18 4 31 27 36 31 7 27 ...\n",
      " $ : int [1:50, 1:30] 35 3 19 36 24 48 28 21 37 1 ...\n",
      " $ : int [1:50, 1:30] 44 43 33 17 43 20 50 8 28 10 ...\n",
      " $ : int [1:50, 1:30] 44 25 49 15 4 15 18 47 33 27 ...\n",
      " $ : int [1:50, 1:30] 10 25 19 27 5 43 11 32 15 9 ...\n",
      " $ : int [1:50, 1:30] 17 25 49 11 18 6 4 39 39 9 ...\n",
      " $ : int [1:50, 1:30] 38 31 26 17 22 40 29 42 16 37 ...\n",
      " $ : int [1:50, 1:30] 39 50 13 36 50 7 2 47 13 23 ...\n",
      " $ : int [1:50, 1:30] 30 38 23 4 36 17 19 37 6 35 ...\n",
      " $ : int [1:50, 1:30] 26 38 47 12 32 3 27 13 18 30 ...\n"
     ]
    }
   ],
   "source": [
    "A.list <- replicate(replicate(expr = sample(1:50, size = 50, replace = T), n = 30), n = 20, simplify = F) # lista con 20 elementos, cada uno de ellos una matriz 50x30\n",
    "str(A.list)"
   ]
  },
  {
   "cell_type": "code",
   "execution_count": null,
   "metadata": {
    "vscode": {
     "languageId": "r"
    }
   },
   "outputs": [],
   "source": [
    "cmean <- parLapply(cl = cl, X = A.list,  mean) # media de cada matriz\n",
    "# cmean <- lapply(X = A.list,  mean) # media de cada matriz\n",
    "print(cmean)"
   ]
  },
  {
   "cell_type": "markdown",
   "metadata": {},
   "source": [
    "Conviene tener en cuenta que no todo es ideal paralelizarlo. De hecho, la operación que acabamos de hacer no tiene sentido a nivel de rendimiento. Comprobemos el rendimiento de `parApply()` contra `apply()`:"
   ]
  },
  {
   "cell_type": "code",
   "execution_count": null,
   "metadata": {
    "vscode": {
     "languageId": "r"
    }
   },
   "outputs": [],
   "source": [
    "#?microbenchmark\n",
    "mbp <- microbenchmark(parLapply(cl = cl, X = A.list,  mean), times = 10)\n",
    "mb <- microbenchmark(lapply(X = A.list,  mean), times = 10)"
   ]
  },
  {
   "cell_type": "code",
   "execution_count": null,
   "metadata": {
    "vscode": {
     "languageId": "r"
    }
   },
   "outputs": [
    {
     "data": {
      "text/html": [
       "0.0399593158"
      ],
      "text/latex": [
       "0.0399593158"
      ],
      "text/markdown": [
       "0.0399593158"
      ],
      "text/plain": [
       "[1] 0.03995932"
      ]
     },
     "metadata": {},
     "output_type": "display_data"
    }
   ],
   "source": [
    "mean(mbp$time)/10^9 # segundos"
   ]
  },
  {
   "cell_type": "code",
   "execution_count": null,
   "metadata": {
    "vscode": {
     "languageId": "r"
    }
   },
   "outputs": [
    {
     "data": {
      "text/html": [
       "0.0001057141"
      ],
      "text/latex": [
       "0.0001057141"
      ],
      "text/markdown": [
       "0.0001057141"
      ],
      "text/plain": [
       "[1] 0.0001057141"
      ]
     },
     "metadata": {},
     "output_type": "display_data"
    }
   ],
   "source": [
    "mean(mb$time)/10^9 # segundos"
   ]
  },
  {
   "cell_type": "markdown",
   "metadata": {},
   "source": [
    "Siempre que acabemos de paralelizar hay que detener el cluster que creamos, utilizando `stopCluster()`:"
   ]
  },
  {
   "cell_type": "code",
   "execution_count": null,
   "metadata": {
    "vscode": {
     "languageId": "r"
    }
   },
   "outputs": [],
   "source": [
    "stopCluster(cl)"
   ]
  },
  {
   "cell_type": "markdown",
   "metadata": {},
   "source": [
    "**Nota**: La función `parMapply()` no existe, por lo que si se quiere paralelizar un `mapply()` se debe acudir a `mcmapply()`. También existe `mclapply()`, que funciona análogamente a `lapply()`. En éstas no hay que iniciar el *cluster* de antemano, pero no están disponibles en Windows.\n",
    " \n",
    " Usando `mclapply()` paralelizar es tan sencillo como:"
   ]
  },
  {
   "cell_type": "code",
   "execution_count": null,
   "metadata": {
    "vscode": {
     "languageId": "r"
    }
   },
   "outputs": [
    {
     "data": {
      "text/html": [
       "<ol>\n",
       "\t<li>25.0566666666667</li>\n",
       "\t<li>25.83</li>\n",
       "\t<li>24.922</li>\n",
       "\t<li>25.6086666666667</li>\n",
       "\t<li>25.5666666666667</li>\n",
       "\t<li>25.6293333333333</li>\n",
       "\t<li>25.7926666666667</li>\n",
       "\t<li>24.7926666666667</li>\n",
       "\t<li>25.5186666666667</li>\n",
       "\t<li>24.892</li>\n",
       "\t<li>25.984</li>\n",
       "\t<li>24.9706666666667</li>\n",
       "\t<li>25.0166666666667</li>\n",
       "\t<li>25.2286666666667</li>\n",
       "\t<li>25.2493333333333</li>\n",
       "\t<li>25.958</li>\n",
       "\t<li>25.446</li>\n",
       "\t<li>24.966</li>\n",
       "\t<li>25.516</li>\n",
       "\t<li>25.7973333333333</li>\n",
       "</ol>\n"
      ],
      "text/latex": [
       "\\begin{enumerate}\n",
       "\\item 25.0566666666667\n",
       "\\item 25.83\n",
       "\\item 24.922\n",
       "\\item 25.6086666666667\n",
       "\\item 25.5666666666667\n",
       "\\item 25.6293333333333\n",
       "\\item 25.7926666666667\n",
       "\\item 24.7926666666667\n",
       "\\item 25.5186666666667\n",
       "\\item 24.892\n",
       "\\item 25.984\n",
       "\\item 24.9706666666667\n",
       "\\item 25.0166666666667\n",
       "\\item 25.2286666666667\n",
       "\\item 25.2493333333333\n",
       "\\item 25.958\n",
       "\\item 25.446\n",
       "\\item 24.966\n",
       "\\item 25.516\n",
       "\\item 25.7973333333333\n",
       "\\end{enumerate}\n"
      ],
      "text/markdown": [
       "1. 25.0566666666667\n",
       "2. 25.83\n",
       "3. 24.922\n",
       "4. 25.6086666666667\n",
       "5. 25.5666666666667\n",
       "6. 25.6293333333333\n",
       "7. 25.7926666666667\n",
       "8. 24.7926666666667\n",
       "9. 25.5186666666667\n",
       "10. 24.892\n",
       "11. 25.984\n",
       "12. 24.9706666666667\n",
       "13. 25.0166666666667\n",
       "14. 25.2286666666667\n",
       "15. 25.2493333333333\n",
       "16. 25.958\n",
       "17. 25.446\n",
       "18. 24.966\n",
       "19. 25.516\n",
       "20. 25.7973333333333\n",
       "\n",
       "\n"
      ],
      "text/plain": [
       "[[1]]\n",
       "[1] 25.05667\n",
       "\n",
       "[[2]]\n",
       "[1] 25.83\n",
       "\n",
       "[[3]]\n",
       "[1] 24.922\n",
       "\n",
       "[[4]]\n",
       "[1] 25.60867\n",
       "\n",
       "[[5]]\n",
       "[1] 25.56667\n",
       "\n",
       "[[6]]\n",
       "[1] 25.62933\n",
       "\n",
       "[[7]]\n",
       "[1] 25.79267\n",
       "\n",
       "[[8]]\n",
       "[1] 24.79267\n",
       "\n",
       "[[9]]\n",
       "[1] 25.51867\n",
       "\n",
       "[[10]]\n",
       "[1] 24.892\n",
       "\n",
       "[[11]]\n",
       "[1] 25.984\n",
       "\n",
       "[[12]]\n",
       "[1] 24.97067\n",
       "\n",
       "[[13]]\n",
       "[1] 25.01667\n",
       "\n",
       "[[14]]\n",
       "[1] 25.22867\n",
       "\n",
       "[[15]]\n",
       "[1] 25.24933\n",
       "\n",
       "[[16]]\n",
       "[1] 25.958\n",
       "\n",
       "[[17]]\n",
       "[1] 25.446\n",
       "\n",
       "[[18]]\n",
       "[1] 24.966\n",
       "\n",
       "[[19]]\n",
       "[1] 25.516\n",
       "\n",
       "[[20]]\n",
       "[1] 25.79733\n"
      ]
     },
     "metadata": {},
     "output_type": "display_data"
    }
   ],
   "source": [
    "mclapply(X = A.list, FUN = mean, mc.cores = 19)"
   ]
  },
  {
   "cell_type": "markdown",
   "metadata": {},
   "source": [
    "Nótese que `mclapply()` abre y cierra el *cluster* automáticamente."
   ]
  },
  {
   "cell_type": "markdown",
   "metadata": {},
   "source": [
    "### ¿Cuándo paralelizar?\n",
    "\n",
    "Aunque en teoría cada núcleo/nodo/procesador debería reducir linealmente el tiempo de cómputo, en la práctica hay trabajo adicional que reduce la eficiencia. Tanto el código como los datos necesitan ser transferidos a cada núcleo y se deben crear los subprocesos, lo que suma tiempo. Es por ello que vemos que paralelizar en el ejemplo de arriba no merece la pena, ya que si el tiempo de computación es muy corto para cada subtarea, el coste de preparar los recursos para la paralelización es más grande que el ahorro conseguido. \n",
    "\n",
    "A continuación vamos a ver un ejemplo de un caso en el que la paralelización disminuye sustancialmente el tiempo de computación. Tenemos una lista de $20$ vectores de tamaño $500$ con números obtenidos de una distribución uniforme, `unif`, al que queremos aplicar la función `mi.funcion()`, que definimos a continuación:"
   ]
  },
  {
   "cell_type": "code",
   "execution_count": null,
   "metadata": {
    "vscode": {
     "languageId": "r"
    }
   },
   "outputs": [],
   "source": [
    "unif <- replicate(runif(n = 500), n = 20, simplify = F)  # lista compuesta por 20 vectores, cada uno de ellos con 500 elementos\n",
    "\n",
    "# extrae muestras de 10 elementos de cada vector hasta que obtiene una con la media y desviación típica razonablemente cerca\n",
    "mi.funcion <- function(x) {\n",
    "    sort(x)\n",
    "    d.tipica <- sd(x)\n",
    "    media <- mean(x)\n",
    "    \n",
    "    error.rel.media <- 1\n",
    "    error.rel.d.tipica <- 1\n",
    "    while(error.rel.media > 0.01 || error.rel.d.tipica > 0.01){\n",
    "        muestra <- sample(x, size = 10)\n",
    "        error.rel.media <- abs(mean(muestra) - media)/media\n",
    "        error.rel.d.tipica <- abs(sd(muestra) - d.tipica)/d.tipica\n",
    "    }\n",
    "    return(muestra)\n",
    "}"
   ]
  },
  {
   "cell_type": "markdown",
   "metadata": {},
   "source": [
    "**Ejercicio:** Utiliza la función `microbenchmark()` para medir el tiempo de ejecución de aplicar la función `mi.funcion` a cada elemento de la lista `unif`, primero sin paralelizar y después paralelizando (realiza $50$ ejecuciones)."
   ]
  },
  {
   "cell_type": "code",
   "execution_count": null,
   "metadata": {
    "vscode": {
     "languageId": "r"
    }
   },
   "outputs": [],
   "source": [
    "# sin paralelizar\n"
   ]
  },
  {
   "cell_type": "code",
   "execution_count": null,
   "metadata": {
    "vscode": {
     "languageId": "r"
    }
   },
   "outputs": [],
   "source": [
    "# paralelizando\n"
   ]
  },
  {
   "cell_type": "code",
   "execution_count": null,
   "metadata": {
    "vscode": {
     "languageId": "r"
    }
   },
   "outputs": [],
   "source": [
    "# resultado: comparación de tiempos"
   ]
  }
 ],
 "metadata": {
  "kernelspec": {
   "display_name": "R",
   "language": "R",
   "name": "ir"
  },
  "language_info": {
   "codemirror_mode": "r",
   "file_extension": ".r",
   "mimetype": "text/x-r-source",
   "name": "R",
   "pygments_lexer": "r",
   "version": "4.3.1"
  },
  "latex_envs": {
   "LaTeX_envs_menu_present": true,
   "autoclose": false,
   "autocomplete": true,
   "bibliofile": "biblio.bib",
   "cite_by": "apalike",
   "current_citInitial": 1,
   "eqLabelWithNumbers": true,
   "eqNumInitial": 1,
   "hotkeys": {
    "equation": "Ctrl-E",
    "itemize": "Ctrl-I"
   },
   "labels_anchors": false,
   "latex_user_defs": false,
   "report_style_numbering": false,
   "user_envs_cfg": false
  },
  "toc": {
   "base_numbering": 1,
   "nav_menu": {},
   "number_sections": true,
   "sideBar": true,
   "skip_h1_title": false,
   "title_cell": "Table of Contents",
   "title_sidebar": "Contents",
   "toc_cell": false,
   "toc_position": {},
   "toc_section_display": true,
   "toc_window_display": false
  }
 },
 "nbformat": 4,
 "nbformat_minor": 4
}
